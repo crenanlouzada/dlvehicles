{
  "nbformat": 4,
  "nbformat_minor": 0,
  "metadata": {
    "colab": {
      "name": "Packt_5_1.ipynb",
      "version": "0.3.2",
      "provenance": [],
      "collapsed_sections": []
    },
    "kernelspec": {
      "name": "python3",
      "display_name": "Python 3"
    },
    "accelerator": "GPU"
  },
  "cells": [
    {
      "cell_type": "markdown",
      "metadata": {
        "id": "xL75nMaNjvnn",
        "colab_type": "text"
      },
      "source": [
        "# Working with Temperature Data"
      ]
    },
    {
      "cell_type": "code",
      "metadata": {
        "id": "BjkVp4v2m-NA",
        "colab_type": "code",
        "outputId": "d626a952-15d2-457a-ff17-e12b032e142f",
        "colab": {
          "base_uri": "https://localhost:8080/",
          "height": 373
        }
      },
      "source": [
        "!pip install tensorflow-gpu==2.0.0.beta0"
      ],
      "execution_count": 1,
      "outputs": [
        {
          "output_type": "stream",
          "text": [
            "Requirement already satisfied: tensorflow-gpu==2.0.0.beta0 in /usr/local/lib/python3.6/dist-packages (2.0.0b0)\n",
            "Requirement already satisfied: tf-estimator-nightly<1.14.0.dev2019060502,>=1.14.0.dev2019060501 in /usr/local/lib/python3.6/dist-packages (from tensorflow-gpu==2.0.0.beta0) (1.14.0.dev2019060501)\n",
            "Requirement already satisfied: absl-py>=0.7.0 in /usr/local/lib/python3.6/dist-packages (from tensorflow-gpu==2.0.0.beta0) (0.7.1)\n",
            "Requirement already satisfied: protobuf>=3.6.1 in /usr/local/lib/python3.6/dist-packages (from tensorflow-gpu==2.0.0.beta0) (3.7.1)\n",
            "Requirement already satisfied: six>=1.10.0 in /usr/local/lib/python3.6/dist-packages (from tensorflow-gpu==2.0.0.beta0) (1.12.0)\n",
            "Requirement already satisfied: wrapt>=1.11.1 in /usr/local/lib/python3.6/dist-packages (from tensorflow-gpu==2.0.0.beta0) (1.11.1)\n",
            "Requirement already satisfied: gast>=0.2.0 in /usr/local/lib/python3.6/dist-packages (from tensorflow-gpu==2.0.0.beta0) (0.2.2)\n",
            "Requirement already satisfied: google-pasta>=0.1.6 in /usr/local/lib/python3.6/dist-packages (from tensorflow-gpu==2.0.0.beta0) (0.1.7)\n",
            "Requirement already satisfied: numpy<2.0,>=1.14.5 in /usr/local/lib/python3.6/dist-packages (from tensorflow-gpu==2.0.0.beta0) (1.16.2)\n",
            "Requirement already satisfied: keras-preprocessing>=1.0.5 in /usr/local/lib/python3.6/dist-packages (from tensorflow-gpu==2.0.0.beta0) (1.1.0)\n",
            "Requirement already satisfied: grpcio>=1.8.6 in /usr/local/lib/python3.6/dist-packages (from tensorflow-gpu==2.0.0.beta0) (1.15.0)\n",
            "Requirement already satisfied: tb-nightly<1.14.0a20190604,>=1.14.0a20190603 in /usr/local/lib/python3.6/dist-packages (from tensorflow-gpu==2.0.0.beta0) (1.14.0a20190603)\n",
            "Requirement already satisfied: termcolor>=1.1.0 in /usr/local/lib/python3.6/dist-packages (from tensorflow-gpu==2.0.0.beta0) (1.1.0)\n",
            "Requirement already satisfied: astor>=0.6.0 in /usr/local/lib/python3.6/dist-packages (from tensorflow-gpu==2.0.0.beta0) (0.8.0)\n",
            "Requirement already satisfied: wheel>=0.26 in /usr/local/lib/python3.6/dist-packages (from tensorflow-gpu==2.0.0.beta0) (0.33.4)\n",
            "Requirement already satisfied: keras-applications>=1.0.6 in /usr/local/lib/python3.6/dist-packages (from tensorflow-gpu==2.0.0.beta0) (1.0.8)\n",
            "Requirement already satisfied: setuptools in /usr/local/lib/python3.6/dist-packages (from protobuf>=3.6.1->tensorflow-gpu==2.0.0.beta0) (41.0.1)\n",
            "Requirement already satisfied: werkzeug>=0.11.15 in /usr/local/lib/python3.6/dist-packages (from tb-nightly<1.14.0a20190604,>=1.14.0a20190603->tensorflow-gpu==2.0.0.beta0) (0.15.4)\n",
            "Requirement already satisfied: markdown>=2.6.8 in /usr/local/lib/python3.6/dist-packages (from tb-nightly<1.14.0a20190604,>=1.14.0a20190603->tensorflow-gpu==2.0.0.beta0) (3.1.1)\n",
            "Requirement already satisfied: h5py in /usr/local/lib/python3.6/dist-packages (from keras-applications>=1.0.6->tensorflow-gpu==2.0.0.beta0) (2.8.0)\n"
          ],
          "name": "stdout"
        }
      ]
    },
    {
      "cell_type": "code",
      "metadata": {
        "id": "MHIRvIb_oaYG",
        "colab_type": "code",
        "outputId": "9800b169-976c-465d-bf49-41b0da4a0b99",
        "colab": {
          "base_uri": "https://localhost:8080/",
          "height": 34
        }
      },
      "source": [
        "#this version of numpy is required to avoid an error related to numpy defaulting to not allowing pickle files\n",
        "!pip install numpy==1.16.2"
      ],
      "execution_count": 2,
      "outputs": [
        {
          "output_type": "stream",
          "text": [
            "Requirement already satisfied: numpy==1.16.2 in /usr/local/lib/python3.6/dist-packages (1.16.2)\n"
          ],
          "name": "stdout"
        }
      ]
    },
    {
      "cell_type": "code",
      "metadata": {
        "id": "7FMJKFQMoivJ",
        "colab_type": "code",
        "outputId": "d6585fc3-9499-4b21-cd08-1854b46f67a6",
        "colab": {
          "base_uri": "https://localhost:8080/",
          "height": 324
        }
      },
      "source": [
        "!pip install pandas==0.24"
      ],
      "execution_count": 3,
      "outputs": [
        {
          "output_type": "stream",
          "text": [
            "Collecting pandas==0.24\n",
            "\u001b[?25l  Downloading https://files.pythonhosted.org/packages/f9/e1/4a63ed31e1b1362d40ce845a5735c717a959bda992669468dae3420af2cd/pandas-0.24.0-cp36-cp36m-manylinux1_x86_64.whl (10.1MB)\n",
            "\u001b[K     |████████████████████████████████| 10.1MB 2.8MB/s \n",
            "\u001b[?25hRequirement already satisfied: python-dateutil>=2.5.0 in /usr/local/lib/python3.6/dist-packages (from pandas==0.24) (2.5.3)\n",
            "Requirement already satisfied: numpy>=1.12.0 in /usr/local/lib/python3.6/dist-packages (from pandas==0.24) (1.16.2)\n",
            "Requirement already satisfied: pytz>=2011k in /usr/local/lib/python3.6/dist-packages (from pandas==0.24) (2018.9)\n",
            "Requirement already satisfied: six>=1.5 in /usr/local/lib/python3.6/dist-packages (from python-dateutil>=2.5.0->pandas==0.24) (1.12.0)\n",
            "Installing collected packages: pandas\n",
            "  Found existing installation: pandas 0.24.2\n",
            "    Uninstalling pandas-0.24.2:\n",
            "      Successfully uninstalled pandas-0.24.2\n",
            "Successfully installed pandas-0.24.0\n"
          ],
          "name": "stdout"
        },
        {
          "output_type": "display_data",
          "data": {
            "application/vnd.colab-display-data+json": {
              "pip_warning": {
                "packages": [
                  "pandas"
                ]
              }
            }
          },
          "metadata": {
            "tags": []
          }
        }
      ]
    },
    {
      "cell_type": "code",
      "metadata": {
        "id": "PMMsZEp-osnD",
        "colab_type": "code",
        "colab": {}
      },
      "source": [
        "import tensorflow as tf\n",
        "from tensorflow.keras import datasets, preprocessing, models, layers\n",
        "import numpy as np\n",
        "import pandas as pd"
      ],
      "execution_count": 0,
      "outputs": []
    },
    {
      "cell_type": "markdown",
      "metadata": {
        "id": "VnLAGNdMkgh0",
        "colab_type": "text"
      },
      "source": [
        "## Connect to Google Drive"
      ]
    },
    {
      "cell_type": "code",
      "metadata": {
        "id": "NBqcRSTCjzsm",
        "colab_type": "code",
        "outputId": "07cacd35-6c7a-4a9d-f44e-e4a294cf34f7",
        "colab": {
          "base_uri": "https://localhost:8080/",
          "height": 121
        }
      },
      "source": [
        "from google.colab import drive\n",
        "drive.mount('/content/gdrive')"
      ],
      "execution_count": 5,
      "outputs": [
        {
          "output_type": "stream",
          "text": [
            "Go to this URL in a browser: https://accounts.google.com/o/oauth2/auth?client_id=947318989803-6bn6qk8qdgf4n4g3pfee6491hc0brc4i.apps.googleusercontent.com&redirect_uri=urn%3Aietf%3Awg%3Aoauth%3A2.0%3Aoob&scope=email%20https%3A%2F%2Fwww.googleapis.com%2Fauth%2Fdocs.test%20https%3A%2F%2Fwww.googleapis.com%2Fauth%2Fdrive%20https%3A%2F%2Fwww.googleapis.com%2Fauth%2Fdrive.photos.readonly%20https%3A%2F%2Fwww.googleapis.com%2Fauth%2Fpeopleapi.readonly&response_type=code\n",
            "\n",
            "Enter your authorization code:\n",
            "··········\n",
            "Mounted at /content/gdrive\n"
          ],
          "name": "stdout"
        }
      ]
    },
    {
      "cell_type": "code",
      "metadata": {
        "id": "uj8KyMvqlWCR",
        "colab_type": "code",
        "colab": {}
      },
      "source": [
        "df = pd.read_csv('/content/gdrive/My Drive/temperature/jena_climate_2009_2016.csv')"
      ],
      "execution_count": 0,
      "outputs": []
    },
    {
      "cell_type": "code",
      "metadata": {
        "id": "Qx1D8kM_pjqy",
        "colab_type": "code",
        "outputId": "77a8e55b-601b-4f21-b34f-7a19fcaa89e6",
        "colab": {
          "base_uri": "https://localhost:8080/",
          "height": 353
        }
      },
      "source": [
        "df.info()"
      ],
      "execution_count": 7,
      "outputs": [
        {
          "output_type": "stream",
          "text": [
            "<class 'pandas.core.frame.DataFrame'>\n",
            "RangeIndex: 420551 entries, 0 to 420550\n",
            "Data columns (total 15 columns):\n",
            "Date Time          420551 non-null object\n",
            "p (mbar)           420551 non-null float64\n",
            "T (degC)           420551 non-null float64\n",
            "Tpot (K)           420551 non-null float64\n",
            "Tdew (degC)        420551 non-null float64\n",
            "rh (%)             420551 non-null float64\n",
            "VPmax (mbar)       420551 non-null float64\n",
            "VPact (mbar)       420551 non-null float64\n",
            "VPdef (mbar)       420551 non-null float64\n",
            "sh (g/kg)          420551 non-null float64\n",
            "H2OC (mmol/mol)    420551 non-null float64\n",
            "rho (g/m**3)       420551 non-null float64\n",
            "wv (m/s)           420551 non-null float64\n",
            "max. wv (m/s)      420551 non-null float64\n",
            "wd (deg)           420551 non-null float64\n",
            "dtypes: float64(14), object(1)\n",
            "memory usage: 48.1+ MB\n"
          ],
          "name": "stdout"
        }
      ]
    },
    {
      "cell_type": "code",
      "metadata": {
        "id": "Jm3s1z_cqLOY",
        "colab_type": "code",
        "outputId": "e0f57b71-ed10-4b93-b985-2bb835de52af",
        "colab": {
          "base_uri": "https://localhost:8080/",
          "height": 296
        }
      },
      "source": [
        "df.head()"
      ],
      "execution_count": 8,
      "outputs": [
        {
          "output_type": "execute_result",
          "data": {
            "text/html": [
              "<div>\n",
              "<style scoped>\n",
              "    .dataframe tbody tr th:only-of-type {\n",
              "        vertical-align: middle;\n",
              "    }\n",
              "\n",
              "    .dataframe tbody tr th {\n",
              "        vertical-align: top;\n",
              "    }\n",
              "\n",
              "    .dataframe thead th {\n",
              "        text-align: right;\n",
              "    }\n",
              "</style>\n",
              "<table border=\"1\" class=\"dataframe\">\n",
              "  <thead>\n",
              "    <tr style=\"text-align: right;\">\n",
              "      <th></th>\n",
              "      <th>Date Time</th>\n",
              "      <th>p (mbar)</th>\n",
              "      <th>T (degC)</th>\n",
              "      <th>Tpot (K)</th>\n",
              "      <th>Tdew (degC)</th>\n",
              "      <th>rh (%)</th>\n",
              "      <th>VPmax (mbar)</th>\n",
              "      <th>VPact (mbar)</th>\n",
              "      <th>VPdef (mbar)</th>\n",
              "      <th>sh (g/kg)</th>\n",
              "      <th>H2OC (mmol/mol)</th>\n",
              "      <th>rho (g/m**3)</th>\n",
              "      <th>wv (m/s)</th>\n",
              "      <th>max. wv (m/s)</th>\n",
              "      <th>wd (deg)</th>\n",
              "    </tr>\n",
              "  </thead>\n",
              "  <tbody>\n",
              "    <tr>\n",
              "      <th>0</th>\n",
              "      <td>01.01.2009 00:10:00</td>\n",
              "      <td>996.52</td>\n",
              "      <td>-8.02</td>\n",
              "      <td>265.40</td>\n",
              "      <td>-8.90</td>\n",
              "      <td>93.3</td>\n",
              "      <td>3.33</td>\n",
              "      <td>3.11</td>\n",
              "      <td>0.22</td>\n",
              "      <td>1.94</td>\n",
              "      <td>3.12</td>\n",
              "      <td>1307.75</td>\n",
              "      <td>1.03</td>\n",
              "      <td>1.75</td>\n",
              "      <td>152.3</td>\n",
              "    </tr>\n",
              "    <tr>\n",
              "      <th>1</th>\n",
              "      <td>01.01.2009 00:20:00</td>\n",
              "      <td>996.57</td>\n",
              "      <td>-8.41</td>\n",
              "      <td>265.01</td>\n",
              "      <td>-9.28</td>\n",
              "      <td>93.4</td>\n",
              "      <td>3.23</td>\n",
              "      <td>3.02</td>\n",
              "      <td>0.21</td>\n",
              "      <td>1.89</td>\n",
              "      <td>3.03</td>\n",
              "      <td>1309.80</td>\n",
              "      <td>0.72</td>\n",
              "      <td>1.50</td>\n",
              "      <td>136.1</td>\n",
              "    </tr>\n",
              "    <tr>\n",
              "      <th>2</th>\n",
              "      <td>01.01.2009 00:30:00</td>\n",
              "      <td>996.53</td>\n",
              "      <td>-8.51</td>\n",
              "      <td>264.91</td>\n",
              "      <td>-9.31</td>\n",
              "      <td>93.9</td>\n",
              "      <td>3.21</td>\n",
              "      <td>3.01</td>\n",
              "      <td>0.20</td>\n",
              "      <td>1.88</td>\n",
              "      <td>3.02</td>\n",
              "      <td>1310.24</td>\n",
              "      <td>0.19</td>\n",
              "      <td>0.63</td>\n",
              "      <td>171.6</td>\n",
              "    </tr>\n",
              "    <tr>\n",
              "      <th>3</th>\n",
              "      <td>01.01.2009 00:40:00</td>\n",
              "      <td>996.51</td>\n",
              "      <td>-8.31</td>\n",
              "      <td>265.12</td>\n",
              "      <td>-9.07</td>\n",
              "      <td>94.2</td>\n",
              "      <td>3.26</td>\n",
              "      <td>3.07</td>\n",
              "      <td>0.19</td>\n",
              "      <td>1.92</td>\n",
              "      <td>3.08</td>\n",
              "      <td>1309.19</td>\n",
              "      <td>0.34</td>\n",
              "      <td>0.50</td>\n",
              "      <td>198.0</td>\n",
              "    </tr>\n",
              "    <tr>\n",
              "      <th>4</th>\n",
              "      <td>01.01.2009 00:50:00</td>\n",
              "      <td>996.51</td>\n",
              "      <td>-8.27</td>\n",
              "      <td>265.15</td>\n",
              "      <td>-9.04</td>\n",
              "      <td>94.1</td>\n",
              "      <td>3.27</td>\n",
              "      <td>3.08</td>\n",
              "      <td>0.19</td>\n",
              "      <td>1.92</td>\n",
              "      <td>3.09</td>\n",
              "      <td>1309.00</td>\n",
              "      <td>0.32</td>\n",
              "      <td>0.63</td>\n",
              "      <td>214.3</td>\n",
              "    </tr>\n",
              "  </tbody>\n",
              "</table>\n",
              "</div>"
            ],
            "text/plain": [
              "             Date Time  p (mbar)  T (degC)  ...  wv (m/s)  max. wv (m/s)  wd (deg)\n",
              "0  01.01.2009 00:10:00    996.52     -8.02  ...      1.03           1.75     152.3\n",
              "1  01.01.2009 00:20:00    996.57     -8.41  ...      0.72           1.50     136.1\n",
              "2  01.01.2009 00:30:00    996.53     -8.51  ...      0.19           0.63     171.6\n",
              "3  01.01.2009 00:40:00    996.51     -8.31  ...      0.34           0.50     198.0\n",
              "4  01.01.2009 00:50:00    996.51     -8.27  ...      0.32           0.63     214.3\n",
              "\n",
              "[5 rows x 15 columns]"
            ]
          },
          "metadata": {
            "tags": []
          },
          "execution_count": 8
        }
      ]
    },
    {
      "cell_type": "code",
      "metadata": {
        "id": "pAvaxupaqOM4",
        "colab_type": "code",
        "colab": {}
      },
      "source": [
        ""
      ],
      "execution_count": 0,
      "outputs": []
    },
    {
      "cell_type": "markdown",
      "metadata": {
        "id": "WIZxMg-drF_C",
        "colab_type": "text"
      },
      "source": [
        "## Set `Date Time` as the index"
      ]
    },
    {
      "cell_type": "code",
      "metadata": {
        "id": "u1410ZicrJXg",
        "colab_type": "code",
        "colab": {}
      },
      "source": [
        "df = df[['Date Time', 'T (degC)']]\n",
        "df['DateTime'] = pd.to_datetime(df['Date Time'], format=\"%d.%m.%Y %H:%M:%S\")\n"
      ],
      "execution_count": 0,
      "outputs": []
    },
    {
      "cell_type": "code",
      "metadata": {
        "id": "7xFGv36cw98H",
        "colab_type": "code",
        "outputId": "73165d1c-2761-4098-b150-0940ccf48539",
        "colab": {
          "base_uri": "https://localhost:8080/",
          "height": 195
        }
      },
      "source": [
        "df.head()"
      ],
      "execution_count": 10,
      "outputs": [
        {
          "output_type": "execute_result",
          "data": {
            "text/html": [
              "<div>\n",
              "<style scoped>\n",
              "    .dataframe tbody tr th:only-of-type {\n",
              "        vertical-align: middle;\n",
              "    }\n",
              "\n",
              "    .dataframe tbody tr th {\n",
              "        vertical-align: top;\n",
              "    }\n",
              "\n",
              "    .dataframe thead th {\n",
              "        text-align: right;\n",
              "    }\n",
              "</style>\n",
              "<table border=\"1\" class=\"dataframe\">\n",
              "  <thead>\n",
              "    <tr style=\"text-align: right;\">\n",
              "      <th></th>\n",
              "      <th>Date Time</th>\n",
              "      <th>T (degC)</th>\n",
              "      <th>DateTime</th>\n",
              "    </tr>\n",
              "  </thead>\n",
              "  <tbody>\n",
              "    <tr>\n",
              "      <th>0</th>\n",
              "      <td>01.01.2009 00:10:00</td>\n",
              "      <td>-8.02</td>\n",
              "      <td>2009-01-01 00:10:00</td>\n",
              "    </tr>\n",
              "    <tr>\n",
              "      <th>1</th>\n",
              "      <td>01.01.2009 00:20:00</td>\n",
              "      <td>-8.41</td>\n",
              "      <td>2009-01-01 00:20:00</td>\n",
              "    </tr>\n",
              "    <tr>\n",
              "      <th>2</th>\n",
              "      <td>01.01.2009 00:30:00</td>\n",
              "      <td>-8.51</td>\n",
              "      <td>2009-01-01 00:30:00</td>\n",
              "    </tr>\n",
              "    <tr>\n",
              "      <th>3</th>\n",
              "      <td>01.01.2009 00:40:00</td>\n",
              "      <td>-8.31</td>\n",
              "      <td>2009-01-01 00:40:00</td>\n",
              "    </tr>\n",
              "    <tr>\n",
              "      <th>4</th>\n",
              "      <td>01.01.2009 00:50:00</td>\n",
              "      <td>-8.27</td>\n",
              "      <td>2009-01-01 00:50:00</td>\n",
              "    </tr>\n",
              "  </tbody>\n",
              "</table>\n",
              "</div>"
            ],
            "text/plain": [
              "             Date Time  T (degC)            DateTime\n",
              "0  01.01.2009 00:10:00     -8.02 2009-01-01 00:10:00\n",
              "1  01.01.2009 00:20:00     -8.41 2009-01-01 00:20:00\n",
              "2  01.01.2009 00:30:00     -8.51 2009-01-01 00:30:00\n",
              "3  01.01.2009 00:40:00     -8.31 2009-01-01 00:40:00\n",
              "4  01.01.2009 00:50:00     -8.27 2009-01-01 00:50:00"
            ]
          },
          "metadata": {
            "tags": []
          },
          "execution_count": 10
        }
      ]
    },
    {
      "cell_type": "code",
      "metadata": {
        "id": "AUFx6XrRxET3",
        "colab_type": "code",
        "outputId": "2ac7f483-1886-43ba-bc55-5ff98aa49f6e",
        "colab": {
          "base_uri": "https://localhost:8080/",
          "height": 1911
        }
      },
      "source": [
        "df.set_index(['DateTime'])"
      ],
      "execution_count": 11,
      "outputs": [
        {
          "output_type": "execute_result",
          "data": {
            "text/html": [
              "<div>\n",
              "<style scoped>\n",
              "    .dataframe tbody tr th:only-of-type {\n",
              "        vertical-align: middle;\n",
              "    }\n",
              "\n",
              "    .dataframe tbody tr th {\n",
              "        vertical-align: top;\n",
              "    }\n",
              "\n",
              "    .dataframe thead th {\n",
              "        text-align: right;\n",
              "    }\n",
              "</style>\n",
              "<table border=\"1\" class=\"dataframe\">\n",
              "  <thead>\n",
              "    <tr style=\"text-align: right;\">\n",
              "      <th></th>\n",
              "      <th>Date Time</th>\n",
              "      <th>T (degC)</th>\n",
              "    </tr>\n",
              "    <tr>\n",
              "      <th>DateTime</th>\n",
              "      <th></th>\n",
              "      <th></th>\n",
              "    </tr>\n",
              "  </thead>\n",
              "  <tbody>\n",
              "    <tr>\n",
              "      <th>2009-01-01 00:10:00</th>\n",
              "      <td>01.01.2009 00:10:00</td>\n",
              "      <td>-8.02</td>\n",
              "    </tr>\n",
              "    <tr>\n",
              "      <th>2009-01-01 00:20:00</th>\n",
              "      <td>01.01.2009 00:20:00</td>\n",
              "      <td>-8.41</td>\n",
              "    </tr>\n",
              "    <tr>\n",
              "      <th>2009-01-01 00:30:00</th>\n",
              "      <td>01.01.2009 00:30:00</td>\n",
              "      <td>-8.51</td>\n",
              "    </tr>\n",
              "    <tr>\n",
              "      <th>2009-01-01 00:40:00</th>\n",
              "      <td>01.01.2009 00:40:00</td>\n",
              "      <td>-8.31</td>\n",
              "    </tr>\n",
              "    <tr>\n",
              "      <th>2009-01-01 00:50:00</th>\n",
              "      <td>01.01.2009 00:50:00</td>\n",
              "      <td>-8.27</td>\n",
              "    </tr>\n",
              "    <tr>\n",
              "      <th>2009-01-01 01:00:00</th>\n",
              "      <td>01.01.2009 01:00:00</td>\n",
              "      <td>-8.05</td>\n",
              "    </tr>\n",
              "    <tr>\n",
              "      <th>2009-01-01 01:10:00</th>\n",
              "      <td>01.01.2009 01:10:00</td>\n",
              "      <td>-7.62</td>\n",
              "    </tr>\n",
              "    <tr>\n",
              "      <th>2009-01-01 01:20:00</th>\n",
              "      <td>01.01.2009 01:20:00</td>\n",
              "      <td>-7.62</td>\n",
              "    </tr>\n",
              "    <tr>\n",
              "      <th>2009-01-01 01:30:00</th>\n",
              "      <td>01.01.2009 01:30:00</td>\n",
              "      <td>-7.91</td>\n",
              "    </tr>\n",
              "    <tr>\n",
              "      <th>2009-01-01 01:40:00</th>\n",
              "      <td>01.01.2009 01:40:00</td>\n",
              "      <td>-8.43</td>\n",
              "    </tr>\n",
              "    <tr>\n",
              "      <th>2009-01-01 01:50:00</th>\n",
              "      <td>01.01.2009 01:50:00</td>\n",
              "      <td>-8.76</td>\n",
              "    </tr>\n",
              "    <tr>\n",
              "      <th>2009-01-01 02:00:00</th>\n",
              "      <td>01.01.2009 02:00:00</td>\n",
              "      <td>-8.88</td>\n",
              "    </tr>\n",
              "    <tr>\n",
              "      <th>2009-01-01 02:10:00</th>\n",
              "      <td>01.01.2009 02:10:00</td>\n",
              "      <td>-8.85</td>\n",
              "    </tr>\n",
              "    <tr>\n",
              "      <th>2009-01-01 02:20:00</th>\n",
              "      <td>01.01.2009 02:20:00</td>\n",
              "      <td>-8.83</td>\n",
              "    </tr>\n",
              "    <tr>\n",
              "      <th>2009-01-01 02:30:00</th>\n",
              "      <td>01.01.2009 02:30:00</td>\n",
              "      <td>-8.66</td>\n",
              "    </tr>\n",
              "    <tr>\n",
              "      <th>2009-01-01 02:40:00</th>\n",
              "      <td>01.01.2009 02:40:00</td>\n",
              "      <td>-8.66</td>\n",
              "    </tr>\n",
              "    <tr>\n",
              "      <th>2009-01-01 02:50:00</th>\n",
              "      <td>01.01.2009 02:50:00</td>\n",
              "      <td>-8.70</td>\n",
              "    </tr>\n",
              "    <tr>\n",
              "      <th>2009-01-01 03:00:00</th>\n",
              "      <td>01.01.2009 03:00:00</td>\n",
              "      <td>-8.81</td>\n",
              "    </tr>\n",
              "    <tr>\n",
              "      <th>2009-01-01 03:10:00</th>\n",
              "      <td>01.01.2009 03:10:00</td>\n",
              "      <td>-8.84</td>\n",
              "    </tr>\n",
              "    <tr>\n",
              "      <th>2009-01-01 03:20:00</th>\n",
              "      <td>01.01.2009 03:20:00</td>\n",
              "      <td>-8.94</td>\n",
              "    </tr>\n",
              "    <tr>\n",
              "      <th>2009-01-01 03:30:00</th>\n",
              "      <td>01.01.2009 03:30:00</td>\n",
              "      <td>-8.94</td>\n",
              "    </tr>\n",
              "    <tr>\n",
              "      <th>2009-01-01 03:40:00</th>\n",
              "      <td>01.01.2009 03:40:00</td>\n",
              "      <td>-8.86</td>\n",
              "    </tr>\n",
              "    <tr>\n",
              "      <th>2009-01-01 03:50:00</th>\n",
              "      <td>01.01.2009 03:50:00</td>\n",
              "      <td>-8.99</td>\n",
              "    </tr>\n",
              "    <tr>\n",
              "      <th>2009-01-01 04:00:00</th>\n",
              "      <td>01.01.2009 04:00:00</td>\n",
              "      <td>-9.05</td>\n",
              "    </tr>\n",
              "    <tr>\n",
              "      <th>2009-01-01 04:10:00</th>\n",
              "      <td>01.01.2009 04:10:00</td>\n",
              "      <td>-9.23</td>\n",
              "    </tr>\n",
              "    <tr>\n",
              "      <th>2009-01-01 04:20:00</th>\n",
              "      <td>01.01.2009 04:20:00</td>\n",
              "      <td>-9.49</td>\n",
              "    </tr>\n",
              "    <tr>\n",
              "      <th>2009-01-01 04:30:00</th>\n",
              "      <td>01.01.2009 04:30:00</td>\n",
              "      <td>-9.50</td>\n",
              "    </tr>\n",
              "    <tr>\n",
              "      <th>2009-01-01 04:40:00</th>\n",
              "      <td>01.01.2009 04:40:00</td>\n",
              "      <td>-9.35</td>\n",
              "    </tr>\n",
              "    <tr>\n",
              "      <th>2009-01-01 04:50:00</th>\n",
              "      <td>01.01.2009 04:50:00</td>\n",
              "      <td>-9.47</td>\n",
              "    </tr>\n",
              "    <tr>\n",
              "      <th>2009-01-01 05:00:00</th>\n",
              "      <td>01.01.2009 05:00:00</td>\n",
              "      <td>-9.63</td>\n",
              "    </tr>\n",
              "    <tr>\n",
              "      <th>...</th>\n",
              "      <td>...</td>\n",
              "      <td>...</td>\n",
              "    </tr>\n",
              "    <tr>\n",
              "      <th>2016-12-31 19:10:00</th>\n",
              "      <td>31.12.2016 19:10:00</td>\n",
              "      <td>-0.98</td>\n",
              "    </tr>\n",
              "    <tr>\n",
              "      <th>2016-12-31 19:20:00</th>\n",
              "      <td>31.12.2016 19:20:00</td>\n",
              "      <td>-1.40</td>\n",
              "    </tr>\n",
              "    <tr>\n",
              "      <th>2016-12-31 19:30:00</th>\n",
              "      <td>31.12.2016 19:30:00</td>\n",
              "      <td>-1.47</td>\n",
              "    </tr>\n",
              "    <tr>\n",
              "      <th>2016-12-31 19:40:00</th>\n",
              "      <td>31.12.2016 19:40:00</td>\n",
              "      <td>-1.61</td>\n",
              "    </tr>\n",
              "    <tr>\n",
              "      <th>2016-12-31 19:50:00</th>\n",
              "      <td>31.12.2016 19:50:00</td>\n",
              "      <td>-1.65</td>\n",
              "    </tr>\n",
              "    <tr>\n",
              "      <th>2016-12-31 20:00:00</th>\n",
              "      <td>31.12.2016 20:00:00</td>\n",
              "      <td>-1.52</td>\n",
              "    </tr>\n",
              "    <tr>\n",
              "      <th>2016-12-31 20:10:00</th>\n",
              "      <td>31.12.2016 20:10:00</td>\n",
              "      <td>-1.40</td>\n",
              "    </tr>\n",
              "    <tr>\n",
              "      <th>2016-12-31 20:20:00</th>\n",
              "      <td>31.12.2016 20:20:00</td>\n",
              "      <td>-2.15</td>\n",
              "    </tr>\n",
              "    <tr>\n",
              "      <th>2016-12-31 20:30:00</th>\n",
              "      <td>31.12.2016 20:30:00</td>\n",
              "      <td>-3.19</td>\n",
              "    </tr>\n",
              "    <tr>\n",
              "      <th>2016-12-31 20:40:00</th>\n",
              "      <td>31.12.2016 20:40:00</td>\n",
              "      <td>-3.30</td>\n",
              "    </tr>\n",
              "    <tr>\n",
              "      <th>2016-12-31 20:50:00</th>\n",
              "      <td>31.12.2016 20:50:00</td>\n",
              "      <td>-3.46</td>\n",
              "    </tr>\n",
              "    <tr>\n",
              "      <th>2016-12-31 21:00:00</th>\n",
              "      <td>31.12.2016 21:00:00</td>\n",
              "      <td>-3.09</td>\n",
              "    </tr>\n",
              "    <tr>\n",
              "      <th>2016-12-31 21:10:00</th>\n",
              "      <td>31.12.2016 21:10:00</td>\n",
              "      <td>-2.75</td>\n",
              "    </tr>\n",
              "    <tr>\n",
              "      <th>2016-12-31 21:20:00</th>\n",
              "      <td>31.12.2016 21:20:00</td>\n",
              "      <td>-2.61</td>\n",
              "    </tr>\n",
              "    <tr>\n",
              "      <th>2016-12-31 21:30:00</th>\n",
              "      <td>31.12.2016 21:30:00</td>\n",
              "      <td>-2.51</td>\n",
              "    </tr>\n",
              "    <tr>\n",
              "      <th>2016-12-31 21:40:00</th>\n",
              "      <td>31.12.2016 21:40:00</td>\n",
              "      <td>-2.48</td>\n",
              "    </tr>\n",
              "    <tr>\n",
              "      <th>2016-12-31 21:50:00</th>\n",
              "      <td>31.12.2016 21:50:00</td>\n",
              "      <td>-2.48</td>\n",
              "    </tr>\n",
              "    <tr>\n",
              "      <th>2016-12-31 22:00:00</th>\n",
              "      <td>31.12.2016 22:00:00</td>\n",
              "      <td>-2.59</td>\n",
              "    </tr>\n",
              "    <tr>\n",
              "      <th>2016-12-31 22:10:00</th>\n",
              "      <td>31.12.2016 22:10:00</td>\n",
              "      <td>-2.89</td>\n",
              "    </tr>\n",
              "    <tr>\n",
              "      <th>2016-12-31 22:20:00</th>\n",
              "      <td>31.12.2016 22:20:00</td>\n",
              "      <td>-3.22</td>\n",
              "    </tr>\n",
              "    <tr>\n",
              "      <th>2016-12-31 22:30:00</th>\n",
              "      <td>31.12.2016 22:30:00</td>\n",
              "      <td>-4.08</td>\n",
              "    </tr>\n",
              "    <tr>\n",
              "      <th>2016-12-31 22:40:00</th>\n",
              "      <td>31.12.2016 22:40:00</td>\n",
              "      <td>-4.45</td>\n",
              "    </tr>\n",
              "    <tr>\n",
              "      <th>2016-12-31 22:50:00</th>\n",
              "      <td>31.12.2016 22:50:00</td>\n",
              "      <td>-4.09</td>\n",
              "    </tr>\n",
              "    <tr>\n",
              "      <th>2016-12-31 23:00:00</th>\n",
              "      <td>31.12.2016 23:00:00</td>\n",
              "      <td>-3.76</td>\n",
              "    </tr>\n",
              "    <tr>\n",
              "      <th>2016-12-31 23:10:00</th>\n",
              "      <td>31.12.2016 23:10:00</td>\n",
              "      <td>-3.93</td>\n",
              "    </tr>\n",
              "    <tr>\n",
              "      <th>2016-12-31 23:20:00</th>\n",
              "      <td>31.12.2016 23:20:00</td>\n",
              "      <td>-4.05</td>\n",
              "    </tr>\n",
              "    <tr>\n",
              "      <th>2016-12-31 23:30:00</th>\n",
              "      <td>31.12.2016 23:30:00</td>\n",
              "      <td>-3.35</td>\n",
              "    </tr>\n",
              "    <tr>\n",
              "      <th>2016-12-31 23:40:00</th>\n",
              "      <td>31.12.2016 23:40:00</td>\n",
              "      <td>-3.16</td>\n",
              "    </tr>\n",
              "    <tr>\n",
              "      <th>2016-12-31 23:50:00</th>\n",
              "      <td>31.12.2016 23:50:00</td>\n",
              "      <td>-4.23</td>\n",
              "    </tr>\n",
              "    <tr>\n",
              "      <th>2017-01-01 00:00:00</th>\n",
              "      <td>01.01.2017 00:00:00</td>\n",
              "      <td>-4.82</td>\n",
              "    </tr>\n",
              "  </tbody>\n",
              "</table>\n",
              "<p>420551 rows × 2 columns</p>\n",
              "</div>"
            ],
            "text/plain": [
              "                               Date Time  T (degC)\n",
              "DateTime                                          \n",
              "2009-01-01 00:10:00  01.01.2009 00:10:00     -8.02\n",
              "2009-01-01 00:20:00  01.01.2009 00:20:00     -8.41\n",
              "2009-01-01 00:30:00  01.01.2009 00:30:00     -8.51\n",
              "2009-01-01 00:40:00  01.01.2009 00:40:00     -8.31\n",
              "2009-01-01 00:50:00  01.01.2009 00:50:00     -8.27\n",
              "2009-01-01 01:00:00  01.01.2009 01:00:00     -8.05\n",
              "2009-01-01 01:10:00  01.01.2009 01:10:00     -7.62\n",
              "2009-01-01 01:20:00  01.01.2009 01:20:00     -7.62\n",
              "2009-01-01 01:30:00  01.01.2009 01:30:00     -7.91\n",
              "2009-01-01 01:40:00  01.01.2009 01:40:00     -8.43\n",
              "2009-01-01 01:50:00  01.01.2009 01:50:00     -8.76\n",
              "2009-01-01 02:00:00  01.01.2009 02:00:00     -8.88\n",
              "2009-01-01 02:10:00  01.01.2009 02:10:00     -8.85\n",
              "2009-01-01 02:20:00  01.01.2009 02:20:00     -8.83\n",
              "2009-01-01 02:30:00  01.01.2009 02:30:00     -8.66\n",
              "2009-01-01 02:40:00  01.01.2009 02:40:00     -8.66\n",
              "2009-01-01 02:50:00  01.01.2009 02:50:00     -8.70\n",
              "2009-01-01 03:00:00  01.01.2009 03:00:00     -8.81\n",
              "2009-01-01 03:10:00  01.01.2009 03:10:00     -8.84\n",
              "2009-01-01 03:20:00  01.01.2009 03:20:00     -8.94\n",
              "2009-01-01 03:30:00  01.01.2009 03:30:00     -8.94\n",
              "2009-01-01 03:40:00  01.01.2009 03:40:00     -8.86\n",
              "2009-01-01 03:50:00  01.01.2009 03:50:00     -8.99\n",
              "2009-01-01 04:00:00  01.01.2009 04:00:00     -9.05\n",
              "2009-01-01 04:10:00  01.01.2009 04:10:00     -9.23\n",
              "2009-01-01 04:20:00  01.01.2009 04:20:00     -9.49\n",
              "2009-01-01 04:30:00  01.01.2009 04:30:00     -9.50\n",
              "2009-01-01 04:40:00  01.01.2009 04:40:00     -9.35\n",
              "2009-01-01 04:50:00  01.01.2009 04:50:00     -9.47\n",
              "2009-01-01 05:00:00  01.01.2009 05:00:00     -9.63\n",
              "...                                  ...       ...\n",
              "2016-12-31 19:10:00  31.12.2016 19:10:00     -0.98\n",
              "2016-12-31 19:20:00  31.12.2016 19:20:00     -1.40\n",
              "2016-12-31 19:30:00  31.12.2016 19:30:00     -1.47\n",
              "2016-12-31 19:40:00  31.12.2016 19:40:00     -1.61\n",
              "2016-12-31 19:50:00  31.12.2016 19:50:00     -1.65\n",
              "2016-12-31 20:00:00  31.12.2016 20:00:00     -1.52\n",
              "2016-12-31 20:10:00  31.12.2016 20:10:00     -1.40\n",
              "2016-12-31 20:20:00  31.12.2016 20:20:00     -2.15\n",
              "2016-12-31 20:30:00  31.12.2016 20:30:00     -3.19\n",
              "2016-12-31 20:40:00  31.12.2016 20:40:00     -3.30\n",
              "2016-12-31 20:50:00  31.12.2016 20:50:00     -3.46\n",
              "2016-12-31 21:00:00  31.12.2016 21:00:00     -3.09\n",
              "2016-12-31 21:10:00  31.12.2016 21:10:00     -2.75\n",
              "2016-12-31 21:20:00  31.12.2016 21:20:00     -2.61\n",
              "2016-12-31 21:30:00  31.12.2016 21:30:00     -2.51\n",
              "2016-12-31 21:40:00  31.12.2016 21:40:00     -2.48\n",
              "2016-12-31 21:50:00  31.12.2016 21:50:00     -2.48\n",
              "2016-12-31 22:00:00  31.12.2016 22:00:00     -2.59\n",
              "2016-12-31 22:10:00  31.12.2016 22:10:00     -2.89\n",
              "2016-12-31 22:20:00  31.12.2016 22:20:00     -3.22\n",
              "2016-12-31 22:30:00  31.12.2016 22:30:00     -4.08\n",
              "2016-12-31 22:40:00  31.12.2016 22:40:00     -4.45\n",
              "2016-12-31 22:50:00  31.12.2016 22:50:00     -4.09\n",
              "2016-12-31 23:00:00  31.12.2016 23:00:00     -3.76\n",
              "2016-12-31 23:10:00  31.12.2016 23:10:00     -3.93\n",
              "2016-12-31 23:20:00  31.12.2016 23:20:00     -4.05\n",
              "2016-12-31 23:30:00  31.12.2016 23:30:00     -3.35\n",
              "2016-12-31 23:40:00  31.12.2016 23:40:00     -3.16\n",
              "2016-12-31 23:50:00  31.12.2016 23:50:00     -4.23\n",
              "2017-01-01 00:00:00  01.01.2017 00:00:00     -4.82\n",
              "\n",
              "[420551 rows x 2 columns]"
            ]
          },
          "metadata": {
            "tags": []
          },
          "execution_count": 11
        }
      ]
    },
    {
      "cell_type": "markdown",
      "metadata": {
        "id": "bckywZOxt12s",
        "colab_type": "text"
      },
      "source": [
        "## Import Charting Library"
      ]
    },
    {
      "cell_type": "code",
      "metadata": {
        "id": "s9kFAirlt4N_",
        "colab_type": "code",
        "colab": {}
      },
      "source": [
        "import matplotlib.pyplot as plt\n",
        "%matplotlib inline"
      ],
      "execution_count": 0,
      "outputs": []
    },
    {
      "cell_type": "code",
      "metadata": {
        "id": "xuz9iQ95t_Rl",
        "colab_type": "code",
        "colab": {}
      },
      "source": [
        "time_series_df = df.set_index(['DateTime'])"
      ],
      "execution_count": 0,
      "outputs": []
    },
    {
      "cell_type": "code",
      "metadata": {
        "id": "rh_RUZk_yarh",
        "colab_type": "code",
        "outputId": "d319d843-5955-4b38-85f4-599b7eec0ffe",
        "colab": {
          "base_uri": "https://localhost:8080/",
          "height": 134
        }
      },
      "source": [
        "time_series_df.info()"
      ],
      "execution_count": 14,
      "outputs": [
        {
          "output_type": "stream",
          "text": [
            "<class 'pandas.core.frame.DataFrame'>\n",
            "DatetimeIndex: 420551 entries, 2009-01-01 00:10:00 to 2017-01-01 00:00:00\n",
            "Data columns (total 2 columns):\n",
            "Date Time    420551 non-null object\n",
            "T (degC)     420551 non-null float64\n",
            "dtypes: float64(1), object(1)\n",
            "memory usage: 9.6+ MB\n"
          ],
          "name": "stdout"
        }
      ]
    },
    {
      "cell_type": "markdown",
      "metadata": {
        "id": "cGwG4sBg28Nc",
        "colab_type": "text"
      },
      "source": [
        "## Implement Slicing"
      ]
    },
    {
      "cell_type": "code",
      "metadata": {
        "id": "wIF8vXd6y-1p",
        "colab_type": "code",
        "colab": {}
      },
      "source": [
        "jan_2009 = time_series_df['2009-01']"
      ],
      "execution_count": 0,
      "outputs": []
    },
    {
      "cell_type": "code",
      "metadata": {
        "id": "3VqTY5lMzB8j",
        "colab_type": "code",
        "outputId": "c1a86252-f551-40db-8b07-65872bbcadf6",
        "colab": {
          "base_uri": "https://localhost:8080/",
          "height": 134
        }
      },
      "source": [
        "jan_2009['T (degC)'].head()"
      ],
      "execution_count": 16,
      "outputs": [
        {
          "output_type": "execute_result",
          "data": {
            "text/plain": [
              "DateTime\n",
              "2009-01-01 00:10:00   -8.02\n",
              "2009-01-01 00:20:00   -8.41\n",
              "2009-01-01 00:30:00   -8.51\n",
              "2009-01-01 00:40:00   -8.31\n",
              "2009-01-01 00:50:00   -8.27\n",
              "Name: T (degC), dtype: float64"
            ]
          },
          "metadata": {
            "tags": []
          },
          "execution_count": 16
        }
      ]
    },
    {
      "cell_type": "code",
      "metadata": {
        "id": "kDNAyZY0zTlV",
        "colab_type": "code",
        "outputId": "bdb960ed-e005-4a43-9631-f899b42ea602",
        "colab": {
          "base_uri": "https://localhost:8080/",
          "height": 134
        }
      },
      "source": [
        "jan_2009.info()"
      ],
      "execution_count": 17,
      "outputs": [
        {
          "output_type": "stream",
          "text": [
            "<class 'pandas.core.frame.DataFrame'>\n",
            "DatetimeIndex: 4463 entries, 2009-01-01 00:10:00 to 2009-01-31 23:50:00\n",
            "Data columns (total 2 columns):\n",
            "Date Time    4463 non-null object\n",
            "T (degC)     4463 non-null float64\n",
            "dtypes: float64(1), object(1)\n",
            "memory usage: 104.6+ KB\n"
          ],
          "name": "stdout"
        }
      ]
    },
    {
      "cell_type": "markdown",
      "metadata": {
        "id": "S2x9fRer2_73",
        "colab_type": "text"
      },
      "source": [
        "## Plot our Data"
      ]
    },
    {
      "cell_type": "code",
      "metadata": {
        "id": "agqQ7Z1n1xuh",
        "colab_type": "code",
        "outputId": "d2717298-3baa-4567-e923-2c57e97fc4b2",
        "colab": {
          "base_uri": "https://localhost:8080/",
          "height": 417
        }
      },
      "source": [
        "jan_2009.drop(['Date Time'], axis=1, inplace=True)\n",
        "jan_2009.plot()"
      ],
      "execution_count": 18,
      "outputs": [
        {
          "output_type": "stream",
          "text": [
            "/usr/local/lib/python3.6/dist-packages/pandas/core/frame.py:3940: SettingWithCopyWarning: \n",
            "A value is trying to be set on a copy of a slice from a DataFrame\n",
            "\n",
            "See the caveats in the documentation: http://pandas.pydata.org/pandas-docs/stable/indexing.html#indexing-view-versus-copy\n",
            "  a dict / Series will be left as-is. Extra labels listed don't throw an\n"
          ],
          "name": "stderr"
        },
        {
          "output_type": "execute_result",
          "data": {
            "text/plain": [
              "<matplotlib.axes._subplots.AxesSubplot at 0x7f3b1527dcf8>"
            ]
          },
          "metadata": {
            "tags": []
          },
          "execution_count": 18
        },
        {
          "output_type": "display_data",
          "data": {
            "image/png": "[encoded data removed]",
            "text/plain": [
              "<Figure size 432x288 with 1 Axes>"
            ]
          },
          "metadata": {
            "tags": []
          }
        }
      ]
    },
    {
      "cell_type": "markdown",
      "metadata": {
        "id": "oc06SCJsjDY9",
        "colab_type": "text"
      },
      "source": [
        "## Rate of Change"
      ]
    },
    {
      "cell_type": "code",
      "metadata": {
        "id": "kz_ca5FfjHnp",
        "colab_type": "code",
        "outputId": "0c72b6ac-c055-4b10-eca6-b6db2d7f7eff",
        "colab": {
          "base_uri": "https://localhost:8080/",
          "height": 333
        }
      },
      "source": [
        "jan_2009['T (degC)'].pct_change().plot()"
      ],
      "execution_count": 19,
      "outputs": [
        {
          "output_type": "execute_result",
          "data": {
            "text/plain": [
              "<matplotlib.axes._subplots.AxesSubplot at 0x7f3b11246f60>"
            ]
          },
          "metadata": {
            "tags": []
          },
          "execution_count": 19
        },
        {
          "output_type": "display_data",
          "data": {
            "image/png": "[encoded data removed]",
            "text/plain": [
              "<Figure size 432x288 with 1 Axes>"
            ]
          },
          "metadata": {
            "tags": []
          }
        }
      ]
    },
    {
      "cell_type": "code",
      "metadata": {
        "id": "XQ0Y5qHgji9-",
        "colab_type": "code",
        "outputId": "d203979b-2ec3-4d08-a209-8e5434c0d945",
        "colab": {
          "base_uri": "https://localhost:8080/",
          "height": 333
        }
      },
      "source": [
        "jan_2009['T (degC)'].diff().plot()"
      ],
      "execution_count": 20,
      "outputs": [
        {
          "output_type": "execute_result",
          "data": {
            "text/plain": [
              "<matplotlib.axes._subplots.AxesSubplot at 0x7f3b0ff44668>"
            ]
          },
          "metadata": {
            "tags": []
          },
          "execution_count": 20
        },
        {
          "output_type": "display_data",
          "data": {
            "image/png": "[encoded data removed]",
            "text/plain": [
              "<Figure size 432x288 with 1 Axes>"
            ]
          },
          "metadata": {
            "tags": []
          }
        }
      ]
    },
    {
      "cell_type": "markdown",
      "metadata": {
        "id": "_eiwsoZL7wJG",
        "colab_type": "text"
      },
      "source": [
        "## Additional Slicing"
      ]
    },
    {
      "cell_type": "code",
      "metadata": {
        "id": "Ph1eq7Dm3Gm2",
        "colab_type": "code",
        "outputId": "99382734-eae9-452d-b598-7a7ae48b0497",
        "colab": {
          "base_uri": "https://localhost:8080/",
          "height": 134
        }
      },
      "source": [
        "all_jan = time_series_df[time_series_df.index.month == 1]\n",
        "all_jan.info()"
      ],
      "execution_count": 21,
      "outputs": [
        {
          "output_type": "stream",
          "text": [
            "<class 'pandas.core.frame.DataFrame'>\n",
            "DatetimeIndex: 35712 entries, 2009-01-01 00:10:00 to 2017-01-01 00:00:00\n",
            "Data columns (total 2 columns):\n",
            "Date Time    35712 non-null object\n",
            "T (degC)     35712 non-null float64\n",
            "dtypes: float64(1), object(1)\n",
            "memory usage: 837.0+ KB\n"
          ],
          "name": "stdout"
        }
      ]
    },
    {
      "cell_type": "code",
      "metadata": {
        "id": "zgpeWu8Q76Ec",
        "colab_type": "code",
        "outputId": "715a1b6d-863a-4d72-dae1-21c6e13c568e",
        "colab": {
          "base_uri": "https://localhost:8080/",
          "height": 225
        }
      },
      "source": [
        "all_jan.tail()"
      ],
      "execution_count": 22,
      "outputs": [
        {
          "output_type": "execute_result",
          "data": {
            "text/html": [
              "<div>\n",
              "<style scoped>\n",
              "    .dataframe tbody tr th:only-of-type {\n",
              "        vertical-align: middle;\n",
              "    }\n",
              "\n",
              "    .dataframe tbody tr th {\n",
              "        vertical-align: top;\n",
              "    }\n",
              "\n",
              "    .dataframe thead th {\n",
              "        text-align: right;\n",
              "    }\n",
              "</style>\n",
              "<table border=\"1\" class=\"dataframe\">\n",
              "  <thead>\n",
              "    <tr style=\"text-align: right;\">\n",
              "      <th></th>\n",
              "      <th>Date Time</th>\n",
              "      <th>T (degC)</th>\n",
              "    </tr>\n",
              "    <tr>\n",
              "      <th>DateTime</th>\n",
              "      <th></th>\n",
              "      <th></th>\n",
              "    </tr>\n",
              "  </thead>\n",
              "  <tbody>\n",
              "    <tr>\n",
              "      <th>2016-01-31 23:20:00</th>\n",
              "      <td>31.01.2016 23:20:00</td>\n",
              "      <td>4.29</td>\n",
              "    </tr>\n",
              "    <tr>\n",
              "      <th>2016-01-31 23:30:00</th>\n",
              "      <td>31.01.2016 23:30:00</td>\n",
              "      <td>4.22</td>\n",
              "    </tr>\n",
              "    <tr>\n",
              "      <th>2016-01-31 23:40:00</th>\n",
              "      <td>31.01.2016 23:40:00</td>\n",
              "      <td>4.27</td>\n",
              "    </tr>\n",
              "    <tr>\n",
              "      <th>2016-01-31 23:50:00</th>\n",
              "      <td>31.01.2016 23:50:00</td>\n",
              "      <td>4.41</td>\n",
              "    </tr>\n",
              "    <tr>\n",
              "      <th>2017-01-01 00:00:00</th>\n",
              "      <td>01.01.2017 00:00:00</td>\n",
              "      <td>-4.82</td>\n",
              "    </tr>\n",
              "  </tbody>\n",
              "</table>\n",
              "</div>"
            ],
            "text/plain": [
              "                               Date Time  T (degC)\n",
              "DateTime                                          \n",
              "2016-01-31 23:20:00  31.01.2016 23:20:00      4.29\n",
              "2016-01-31 23:30:00  31.01.2016 23:30:00      4.22\n",
              "2016-01-31 23:40:00  31.01.2016 23:40:00      4.27\n",
              "2016-01-31 23:50:00  31.01.2016 23:50:00      4.41\n",
              "2017-01-01 00:00:00  01.01.2017 00:00:00     -4.82"
            ]
          },
          "metadata": {
            "tags": []
          },
          "execution_count": 22
        }
      ]
    },
    {
      "cell_type": "code",
      "metadata": {
        "id": "AlEZ00UB8Gvk",
        "colab_type": "code",
        "outputId": "c8733cba-2025-4c21-fd60-ca26f36b6551",
        "colab": {
          "base_uri": "https://localhost:8080/",
          "height": 298
        }
      },
      "source": [
        "jan_dec_2009 = time_series_df['2009-01':'2009-12']\n",
        "jan_dec_2009.plot()"
      ],
      "execution_count": 23,
      "outputs": [
        {
          "output_type": "execute_result",
          "data": {
            "text/plain": [
              "<matplotlib.axes._subplots.AxesSubplot at 0x7f3b0fe5cdd8>"
            ]
          },
          "metadata": {
            "tags": []
          },
          "execution_count": 23
        },
        {
          "output_type": "display_data",
          "data": {
            "image/png": "[encoded data removed]",
            "text/plain": [
              "<Figure size 432x288 with 1 Axes>"
            ]
          },
          "metadata": {
            "tags": []
          }
        }
      ]
    },
    {
      "cell_type": "code",
      "metadata": {
        "id": "5vOljE7q8kny",
        "colab_type": "code",
        "colab": {}
      },
      "source": [
        "all_2009 = time_series_df['2009']"
      ],
      "execution_count": 0,
      "outputs": []
    },
    {
      "cell_type": "markdown",
      "metadata": {
        "id": "sX0g5Oz5cEsc",
        "colab_type": "text"
      },
      "source": [
        "## Resampling\n",
        "### Frequency Conversion:\n",
        "* Six Times an Hour to Hourly\n",
        "* 24 Times a Day to 6 Times a Day\n",
        "* 24 Times a Day to Daily\n",
        "* Daily to Weekly"
      ]
    },
    {
      "cell_type": "code",
      "metadata": {
        "id": "oxr35rPWcHRs",
        "colab_type": "code",
        "outputId": "31f7103d-700d-457a-c5a7-5766248a69c6",
        "colab": {
          "base_uri": "https://localhost:8080/",
          "height": 310
        }
      },
      "source": [
        "hourly_2009 = jan_dec_2009.resample('H').mean()\n",
        "hourly_2009.plot()"
      ],
      "execution_count": 25,
      "outputs": [
        {
          "output_type": "execute_result",
          "data": {
            "text/plain": [
              "<matplotlib.axes._subplots.AxesSubplot at 0x7f3b0fb85c50>"
            ]
          },
          "metadata": {
            "tags": []
          },
          "execution_count": 25
        },
        {
          "output_type": "display_data",
          "data": {
            "image/png": "[encoded data removed]",
            "text/plain": [
              "<Figure size 432x288 with 1 Axes>"
            ]
          },
          "metadata": {
            "tags": []
          }
        }
      ]
    },
    {
      "cell_type": "code",
      "metadata": {
        "id": "PzsaCil7jLGo",
        "colab_type": "code",
        "outputId": "d953067c-c6cb-4582-9f3c-5e646c61e2fc",
        "colab": {
          "base_uri": "https://localhost:8080/",
          "height": 134
        }
      },
      "source": [
        "hourly_2009.info()"
      ],
      "execution_count": 26,
      "outputs": [
        {
          "output_type": "stream",
          "text": [
            "<class 'pandas.core.frame.DataFrame'>\n",
            "DatetimeIndex: 8760 entries, 2009-01-01 00:00:00 to 2009-12-31 23:00:00\n",
            "Freq: H\n",
            "Data columns (total 1 columns):\n",
            "T (degC)    8760 non-null float64\n",
            "dtypes: float64(1)\n",
            "memory usage: 136.9 KB\n"
          ],
          "name": "stdout"
        }
      ]
    },
    {
      "cell_type": "code",
      "metadata": {
        "id": "qEHLD0hRjX-U",
        "colab_type": "code",
        "outputId": "94eae053-372a-4748-d770-74f872f895ae",
        "colab": {
          "base_uri": "https://localhost:8080/",
          "height": 134
        }
      },
      "source": [
        "jan_dec_2009.info()"
      ],
      "execution_count": 27,
      "outputs": [
        {
          "output_type": "stream",
          "text": [
            "<class 'pandas.core.frame.DataFrame'>\n",
            "DatetimeIndex: 52557 entries, 2009-01-01 00:10:00 to 2009-12-31 23:50:00\n",
            "Data columns (total 2 columns):\n",
            "Date Time    52557 non-null object\n",
            "T (degC)     52557 non-null float64\n",
            "dtypes: float64(1), object(1)\n",
            "memory usage: 1.2+ MB\n"
          ],
          "name": "stdout"
        }
      ]
    },
    {
      "cell_type": "code",
      "metadata": {
        "id": "8l_vtO73jbX-",
        "colab_type": "code",
        "outputId": "52bc2242-ede1-4341-8955-c5a91cdb4a34",
        "colab": {
          "base_uri": "https://localhost:8080/",
          "height": 225
        }
      },
      "source": [
        "daily_min_2009 = jan_dec_2009.resample('D').min()\n",
        "daily_max_2009 = jan_dec_2009.resample('D').max()\n",
        "daily_avg_2009 = jan_dec_2009.resample('D').mean()\n",
        "\n",
        "daily_2009 = pd.DataFrame({\"min\": daily_min_2009['T (degC)'], \"max\": daily_max_2009['T (degC)'], \"avg\": daily_avg_2009['T (degC)']})\n",
        "daily_2009.head()"
      ],
      "execution_count": 28,
      "outputs": [
        {
          "output_type": "execute_result",
          "data": {
            "text/html": [
              "<div>\n",
              "<style scoped>\n",
              "    .dataframe tbody tr th:only-of-type {\n",
              "        vertical-align: middle;\n",
              "    }\n",
              "\n",
              "    .dataframe tbody tr th {\n",
              "        vertical-align: top;\n",
              "    }\n",
              "\n",
              "    .dataframe thead th {\n",
              "        text-align: right;\n",
              "    }\n",
              "</style>\n",
              "<table border=\"1\" class=\"dataframe\">\n",
              "  <thead>\n",
              "    <tr style=\"text-align: right;\">\n",
              "      <th></th>\n",
              "      <th>min</th>\n",
              "      <th>max</th>\n",
              "      <th>avg</th>\n",
              "    </tr>\n",
              "    <tr>\n",
              "      <th>DateTime</th>\n",
              "      <th></th>\n",
              "      <th></th>\n",
              "      <th></th>\n",
              "    </tr>\n",
              "  </thead>\n",
              "  <tbody>\n",
              "    <tr>\n",
              "      <th>2009-01-01</th>\n",
              "      <td>-9.91</td>\n",
              "      <td>-4.17</td>\n",
              "      <td>-6.810629</td>\n",
              "    </tr>\n",
              "    <tr>\n",
              "      <th>2009-01-02</th>\n",
              "      <td>-4.97</td>\n",
              "      <td>-2.12</td>\n",
              "      <td>-3.728194</td>\n",
              "    </tr>\n",
              "    <tr>\n",
              "      <th>2009-01-03</th>\n",
              "      <td>-10.00</td>\n",
              "      <td>-0.82</td>\n",
              "      <td>-5.271736</td>\n",
              "    </tr>\n",
              "    <tr>\n",
              "      <th>2009-01-04</th>\n",
              "      <td>-2.54</td>\n",
              "      <td>-0.63</td>\n",
              "      <td>-1.375208</td>\n",
              "    </tr>\n",
              "    <tr>\n",
              "      <th>2009-01-05</th>\n",
              "      <td>-12.54</td>\n",
              "      <td>-1.44</td>\n",
              "      <td>-4.867153</td>\n",
              "    </tr>\n",
              "  </tbody>\n",
              "</table>\n",
              "</div>"
            ],
            "text/plain": [
              "              min   max       avg\n",
              "DateTime                         \n",
              "2009-01-01  -9.91 -4.17 -6.810629\n",
              "2009-01-02  -4.97 -2.12 -3.728194\n",
              "2009-01-03 -10.00 -0.82 -5.271736\n",
              "2009-01-04  -2.54 -0.63 -1.375208\n",
              "2009-01-05 -12.54 -1.44 -4.867153"
            ]
          },
          "metadata": {
            "tags": []
          },
          "execution_count": 28
        }
      ]
    },
    {
      "cell_type": "code",
      "metadata": {
        "id": "zuskqGqykhOi",
        "colab_type": "code",
        "outputId": "a87ca836-a222-4c24-f52b-d08d9b5a6329",
        "colab": {
          "base_uri": "https://localhost:8080/",
          "height": 310
        }
      },
      "source": [
        "daily_2009.plot()"
      ],
      "execution_count": 29,
      "outputs": [
        {
          "output_type": "execute_result",
          "data": {
            "text/plain": [
              "<matplotlib.axes._subplots.AxesSubplot at 0x7f3b0fa20e10>"
            ]
          },
          "metadata": {
            "tags": []
          },
          "execution_count": 29
        },
        {
          "output_type": "display_data",
          "data": {
            "image/png": "[encoded data removed]",
            "text/plain": [
              "<Figure size 432x288 with 1 Axes>"
            ]
          },
          "metadata": {
            "tags": []
          }
        }
      ]
    },
    {
      "cell_type": "markdown",
      "metadata": {
        "id": "njjGlOo_qeCa",
        "colab_type": "text"
      },
      "source": [
        "## Problem Definition"
      ]
    },
    {
      "cell_type": "code",
      "metadata": {
        "id": "ztae1LOWk4ir",
        "colab_type": "code",
        "outputId": "c75d091f-48b9-4439-ead1-46c07e78eea9",
        "colab": {
          "base_uri": "https://localhost:8080/",
          "height": 34
        }
      },
      "source": [
        "print(type(daily_2009['2009-01']['avg'].to_numpy()))"
      ],
      "execution_count": 30,
      "outputs": [
        {
          "output_type": "stream",
          "text": [
            "<class 'numpy.ndarray'>\n"
          ],
          "name": "stdout"
        }
      ]
    },
    {
      "cell_type": "code",
      "metadata": {
        "id": "xp08YkGbqr9P",
        "colab_type": "code",
        "outputId": "8ea7d9c2-289a-4a7e-c5a3-94c8d4b38a37",
        "colab": {
          "base_uri": "https://localhost:8080/",
          "height": 134
        }
      },
      "source": [
        "print(daily_2009['2009-01']['avg'].to_numpy())"
      ],
      "execution_count": 31,
      "outputs": [
        {
          "output_type": "stream",
          "text": [
            "[ -6.81062937  -3.72819444  -5.27173611  -1.37520833  -4.86715278\n",
            " -15.48284722 -15.734375    -9.60916667 -12.30145833 -10.72826389\n",
            "  -8.68166667  -5.38486111  -1.67819444  -4.68777778  -0.06097222\n",
            "  -2.81576389   0.03965278   2.56284722   2.52479167   3.18354167\n",
            "  -1.54805556  -1.12569444   1.46041667   2.58034722   0.98472222\n",
            "  -3.28472222  -1.34423611  -2.49381944  -2.37104167  -2.39604167\n",
            "  -2.00166667]\n"
          ],
          "name": "stdout"
        }
      ]
    },
    {
      "cell_type": "markdown",
      "metadata": {
        "id": "alC0EqzzrBjE",
        "colab_type": "text"
      },
      "source": [
        "__problem :__ we have inputs, but no outputs, or features without labels"
      ]
    },
    {
      "cell_type": "code",
      "metadata": {
        "id": "eZFywjP4qwnz",
        "colab_type": "code",
        "outputId": "86e0a57f-52a6-4eca-92e4-3634eb9b75dc",
        "colab": {
          "base_uri": "https://localhost:8080/",
          "height": 168
        }
      },
      "source": [
        "daily_avg_jan_2009 = daily_2009['2009-01']\n",
        "daily_avg_jan_2009.info()"
      ],
      "execution_count": 32,
      "outputs": [
        {
          "output_type": "stream",
          "text": [
            "<class 'pandas.core.frame.DataFrame'>\n",
            "DatetimeIndex: 31 entries, 2009-01-01 to 2009-01-31\n",
            "Freq: D\n",
            "Data columns (total 3 columns):\n",
            "min    31 non-null float64\n",
            "max    31 non-null float64\n",
            "avg    31 non-null float64\n",
            "dtypes: float64(3)\n",
            "memory usage: 992.0 bytes\n"
          ],
          "name": "stdout"
        }
      ]
    },
    {
      "cell_type": "code",
      "metadata": {
        "id": "4OS6gRXczk8B",
        "colab_type": "code",
        "outputId": "897da389-382d-43bb-f382-1b8ffc6463da",
        "colab": {
          "base_uri": "https://localhost:8080/",
          "height": 218
        }
      },
      "source": [
        "daily_avg_jan_2009.drop(['min', 'max'], axis=1, inplace=True)\n",
        "daily_avg_jan_2009.info()"
      ],
      "execution_count": 33,
      "outputs": [
        {
          "output_type": "stream",
          "text": [
            "<class 'pandas.core.frame.DataFrame'>\n",
            "DatetimeIndex: 31 entries, 2009-01-01 to 2009-01-31\n",
            "Freq: D\n",
            "Data columns (total 1 columns):\n",
            "avg    31 non-null float64\n",
            "dtypes: float64(1)\n",
            "memory usage: 496.0 bytes\n"
          ],
          "name": "stdout"
        },
        {
          "output_type": "stream",
          "text": [
            "/usr/local/lib/python3.6/dist-packages/pandas/core/frame.py:3940: SettingWithCopyWarning: \n",
            "A value is trying to be set on a copy of a slice from a DataFrame\n",
            "\n",
            "See the caveats in the documentation: http://pandas.pydata.org/pandas-docs/stable/indexing.html#indexing-view-versus-copy\n",
            "  a dict / Series will be left as-is. Extra labels listed don't throw an\n"
          ],
          "name": "stderr"
        }
      ]
    },
    {
      "cell_type": "code",
      "metadata": {
        "id": "dmCgDYrg0U_p",
        "colab_type": "code",
        "outputId": "0ebff9e3-106f-41c2-f827-3f3c9f065a89",
        "colab": {
          "base_uri": "https://localhost:8080/",
          "height": 225
        }
      },
      "source": [
        "daily_avg_jan_2009.head()"
      ],
      "execution_count": 34,
      "outputs": [
        {
          "output_type": "execute_result",
          "data": {
            "text/html": [
              "<div>\n",
              "<style scoped>\n",
              "    .dataframe tbody tr th:only-of-type {\n",
              "        vertical-align: middle;\n",
              "    }\n",
              "\n",
              "    .dataframe tbody tr th {\n",
              "        vertical-align: top;\n",
              "    }\n",
              "\n",
              "    .dataframe thead th {\n",
              "        text-align: right;\n",
              "    }\n",
              "</style>\n",
              "<table border=\"1\" class=\"dataframe\">\n",
              "  <thead>\n",
              "    <tr style=\"text-align: right;\">\n",
              "      <th></th>\n",
              "      <th>avg</th>\n",
              "    </tr>\n",
              "    <tr>\n",
              "      <th>DateTime</th>\n",
              "      <th></th>\n",
              "    </tr>\n",
              "  </thead>\n",
              "  <tbody>\n",
              "    <tr>\n",
              "      <th>2009-01-01</th>\n",
              "      <td>-6.810629</td>\n",
              "    </tr>\n",
              "    <tr>\n",
              "      <th>2009-01-02</th>\n",
              "      <td>-3.728194</td>\n",
              "    </tr>\n",
              "    <tr>\n",
              "      <th>2009-01-03</th>\n",
              "      <td>-5.271736</td>\n",
              "    </tr>\n",
              "    <tr>\n",
              "      <th>2009-01-04</th>\n",
              "      <td>-1.375208</td>\n",
              "    </tr>\n",
              "    <tr>\n",
              "      <th>2009-01-05</th>\n",
              "      <td>-4.867153</td>\n",
              "    </tr>\n",
              "  </tbody>\n",
              "</table>\n",
              "</div>"
            ],
            "text/plain": [
              "                 avg\n",
              "DateTime            \n",
              "2009-01-01 -6.810629\n",
              "2009-01-02 -3.728194\n",
              "2009-01-03 -5.271736\n",
              "2009-01-04 -1.375208\n",
              "2009-01-05 -4.867153"
            ]
          },
          "metadata": {
            "tags": []
          },
          "execution_count": 34
        }
      ]
    },
    {
      "cell_type": "code",
      "metadata": {
        "id": "BoMeKyj50cvJ",
        "colab_type": "code",
        "colab": {}
      },
      "source": [
        "daily_avg_jan_2009.reset_index(inplace=True)"
      ],
      "execution_count": 0,
      "outputs": []
    },
    {
      "cell_type": "code",
      "metadata": {
        "id": "EBwUUaDV0ix4",
        "colab_type": "code",
        "outputId": "5cd9250f-1674-46b7-8c06-0bbebc09d38c",
        "colab": {
          "base_uri": "https://localhost:8080/",
          "height": 195
        }
      },
      "source": [
        "daily_avg_jan_2009.head()"
      ],
      "execution_count": 36,
      "outputs": [
        {
          "output_type": "execute_result",
          "data": {
            "text/html": [
              "<div>\n",
              "<style scoped>\n",
              "    .dataframe tbody tr th:only-of-type {\n",
              "        vertical-align: middle;\n",
              "    }\n",
              "\n",
              "    .dataframe tbody tr th {\n",
              "        vertical-align: top;\n",
              "    }\n",
              "\n",
              "    .dataframe thead th {\n",
              "        text-align: right;\n",
              "    }\n",
              "</style>\n",
              "<table border=\"1\" class=\"dataframe\">\n",
              "  <thead>\n",
              "    <tr style=\"text-align: right;\">\n",
              "      <th></th>\n",
              "      <th>DateTime</th>\n",
              "      <th>avg</th>\n",
              "    </tr>\n",
              "  </thead>\n",
              "  <tbody>\n",
              "    <tr>\n",
              "      <th>0</th>\n",
              "      <td>2009-01-01</td>\n",
              "      <td>-6.810629</td>\n",
              "    </tr>\n",
              "    <tr>\n",
              "      <th>1</th>\n",
              "      <td>2009-01-02</td>\n",
              "      <td>-3.728194</td>\n",
              "    </tr>\n",
              "    <tr>\n",
              "      <th>2</th>\n",
              "      <td>2009-01-03</td>\n",
              "      <td>-5.271736</td>\n",
              "    </tr>\n",
              "    <tr>\n",
              "      <th>3</th>\n",
              "      <td>2009-01-04</td>\n",
              "      <td>-1.375208</td>\n",
              "    </tr>\n",
              "    <tr>\n",
              "      <th>4</th>\n",
              "      <td>2009-01-05</td>\n",
              "      <td>-4.867153</td>\n",
              "    </tr>\n",
              "  </tbody>\n",
              "</table>\n",
              "</div>"
            ],
            "text/plain": [
              "    DateTime       avg\n",
              "0 2009-01-01 -6.810629\n",
              "1 2009-01-02 -3.728194\n",
              "2 2009-01-03 -5.271736\n",
              "3 2009-01-04 -1.375208\n",
              "4 2009-01-05 -4.867153"
            ]
          },
          "metadata": {
            "tags": []
          },
          "execution_count": 36
        }
      ]
    },
    {
      "cell_type": "code",
      "metadata": {
        "id": "dGXFFlIe4KpK",
        "colab_type": "code",
        "outputId": "dac88f0e-5fc5-419b-c482-05aa1df5901d",
        "colab": {
          "base_uri": "https://localhost:8080/",
          "height": 195
        }
      },
      "source": [
        "daily_avg_jan_2009.reset_index(inplace=True)\n",
        "daily_avg_jan_2009.head()"
      ],
      "execution_count": 37,
      "outputs": [
        {
          "output_type": "execute_result",
          "data": {
            "text/html": [
              "<div>\n",
              "<style scoped>\n",
              "    .dataframe tbody tr th:only-of-type {\n",
              "        vertical-align: middle;\n",
              "    }\n",
              "\n",
              "    .dataframe tbody tr th {\n",
              "        vertical-align: top;\n",
              "    }\n",
              "\n",
              "    .dataframe thead th {\n",
              "        text-align: right;\n",
              "    }\n",
              "</style>\n",
              "<table border=\"1\" class=\"dataframe\">\n",
              "  <thead>\n",
              "    <tr style=\"text-align: right;\">\n",
              "      <th></th>\n",
              "      <th>index</th>\n",
              "      <th>DateTime</th>\n",
              "      <th>avg</th>\n",
              "    </tr>\n",
              "  </thead>\n",
              "  <tbody>\n",
              "    <tr>\n",
              "      <th>0</th>\n",
              "      <td>0</td>\n",
              "      <td>2009-01-01</td>\n",
              "      <td>-6.810629</td>\n",
              "    </tr>\n",
              "    <tr>\n",
              "      <th>1</th>\n",
              "      <td>1</td>\n",
              "      <td>2009-01-02</td>\n",
              "      <td>-3.728194</td>\n",
              "    </tr>\n",
              "    <tr>\n",
              "      <th>2</th>\n",
              "      <td>2</td>\n",
              "      <td>2009-01-03</td>\n",
              "      <td>-5.271736</td>\n",
              "    </tr>\n",
              "    <tr>\n",
              "      <th>3</th>\n",
              "      <td>3</td>\n",
              "      <td>2009-01-04</td>\n",
              "      <td>-1.375208</td>\n",
              "    </tr>\n",
              "    <tr>\n",
              "      <th>4</th>\n",
              "      <td>4</td>\n",
              "      <td>2009-01-05</td>\n",
              "      <td>-4.867153</td>\n",
              "    </tr>\n",
              "  </tbody>\n",
              "</table>\n",
              "</div>"
            ],
            "text/plain": [
              "   index   DateTime       avg\n",
              "0      0 2009-01-01 -6.810629\n",
              "1      1 2009-01-02 -3.728194\n",
              "2      2 2009-01-03 -5.271736\n",
              "3      3 2009-01-04 -1.375208\n",
              "4      4 2009-01-05 -4.867153"
            ]
          },
          "metadata": {
            "tags": []
          },
          "execution_count": 37
        }
      ]
    },
    {
      "cell_type": "code",
      "metadata": {
        "id": "kN2eBnd30vLP",
        "colab_type": "code",
        "colab": {}
      },
      "source": [
        "jan_2009_ndarray = daily_avg_jan_2009[['index', 'avg']].to_numpy()"
      ],
      "execution_count": 0,
      "outputs": []
    },
    {
      "cell_type": "code",
      "metadata": {
        "id": "JRPjRiKp0-xt",
        "colab_type": "code",
        "outputId": "ac3409bf-42fa-4ad7-d2f3-fa8a413ccb27",
        "colab": {
          "base_uri": "https://localhost:8080/",
          "height": 34
        }
      },
      "source": [
        "print(jan_2009_ndarray.shape)"
      ],
      "execution_count": 39,
      "outputs": [
        {
          "output_type": "stream",
          "text": [
            "(31, 2)\n"
          ],
          "name": "stdout"
        }
      ]
    },
    {
      "cell_type": "code",
      "metadata": {
        "id": "XaFJ6Fku1BF7",
        "colab_type": "code",
        "outputId": "493905ef-26b9-4dbd-897f-53545bd15acc",
        "colab": {
          "base_uri": "https://localhost:8080/",
          "height": 538
        }
      },
      "source": [
        "print(jan_2009_ndarray)"
      ],
      "execution_count": 40,
      "outputs": [
        {
          "output_type": "stream",
          "text": [
            "[[  0.          -6.81062937]\n",
            " [  1.          -3.72819444]\n",
            " [  2.          -5.27173611]\n",
            " [  3.          -1.37520833]\n",
            " [  4.          -4.86715278]\n",
            " [  5.         -15.48284722]\n",
            " [  6.         -15.734375  ]\n",
            " [  7.          -9.60916667]\n",
            " [  8.         -12.30145833]\n",
            " [  9.         -10.72826389]\n",
            " [ 10.          -8.68166667]\n",
            " [ 11.          -5.38486111]\n",
            " [ 12.          -1.67819444]\n",
            " [ 13.          -4.68777778]\n",
            " [ 14.          -0.06097222]\n",
            " [ 15.          -2.81576389]\n",
            " [ 16.           0.03965278]\n",
            " [ 17.           2.56284722]\n",
            " [ 18.           2.52479167]\n",
            " [ 19.           3.18354167]\n",
            " [ 20.          -1.54805556]\n",
            " [ 21.          -1.12569444]\n",
            " [ 22.           1.46041667]\n",
            " [ 23.           2.58034722]\n",
            " [ 24.           0.98472222]\n",
            " [ 25.          -3.28472222]\n",
            " [ 26.          -1.34423611]\n",
            " [ 27.          -2.49381944]\n",
            " [ 28.          -2.37104167]\n",
            " [ 29.          -2.39604167]\n",
            " [ 30.          -2.00166667]]\n"
          ],
          "name": "stdout"
        }
      ]
    },
    {
      "cell_type": "code",
      "metadata": {
        "id": "IguJ9UyI3LqA",
        "colab_type": "code",
        "colab": {}
      },
      "source": [
        ""
      ],
      "execution_count": 0,
      "outputs": []
    }
  ]
}