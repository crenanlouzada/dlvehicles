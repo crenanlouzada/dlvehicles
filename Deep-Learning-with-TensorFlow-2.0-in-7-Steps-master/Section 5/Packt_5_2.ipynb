{
  "nbformat": 4,
  "nbformat_minor": 0,
  "metadata": {
    "colab": {
      "name": "Packt_5_2.ipynb",
      "version": "0.3.2",
      "provenance": [],
      "collapsed_sections": [
        "Iq4j69Pg7lCa",
        "ebXgcN0u8O_O",
        "471dBwAp9h6G",
        "mfc-ZXBu-PbK",
        "6WWbWP5dB-O6",
        "HMxbT1S0GxdP",
        "MvfSNd4BMrB6"
      ]
    },
    "kernelspec": {
      "name": "python3",
      "display_name": "Python 3"
    },
    "accelerator": "GPU"
  },
  "cells": [
    {
      "cell_type": "markdown",
      "metadata": {
        "id": "LP-sLEN85iIA",
        "colab_type": "text"
      },
      "source": [
        "# Predicting Temperature with RNN"
      ]
    },
    {
      "cell_type": "code",
      "metadata": {
        "id": "RF_MkOxy5fYF",
        "colab_type": "code",
        "outputId": "c7451799-7c15-4616-d11d-f7eb17fd0cb5",
        "colab": {
          "base_uri": "https://localhost:8080/",
          "height": 373
        }
      },
      "source": [
        "!pip install tensorflow-gpu==2.0.0.beta0"
      ],
      "execution_count": 1,
      "outputs": [
        {
          "output_type": "stream",
          "text": [
            "Requirement already satisfied: tensorflow-gpu==2.0.0.beta0 in /usr/local/lib/python3.6/dist-packages (2.0.0b0)\n",
            "Requirement already satisfied: google-pasta>=0.1.6 in /usr/local/lib/python3.6/dist-packages (from tensorflow-gpu==2.0.0.beta0) (0.1.7)\n",
            "Requirement already satisfied: protobuf>=3.6.1 in /usr/local/lib/python3.6/dist-packages (from tensorflow-gpu==2.0.0.beta0) (3.7.1)\n",
            "Requirement already satisfied: termcolor>=1.1.0 in /usr/local/lib/python3.6/dist-packages (from tensorflow-gpu==2.0.0.beta0) (1.1.0)\n",
            "Requirement already satisfied: six>=1.10.0 in /usr/local/lib/python3.6/dist-packages (from tensorflow-gpu==2.0.0.beta0) (1.12.0)\n",
            "Requirement already satisfied: keras-preprocessing>=1.0.5 in /usr/local/lib/python3.6/dist-packages (from tensorflow-gpu==2.0.0.beta0) (1.1.0)\n",
            "Requirement already satisfied: tb-nightly<1.14.0a20190604,>=1.14.0a20190603 in /usr/local/lib/python3.6/dist-packages (from tensorflow-gpu==2.0.0.beta0) (1.14.0a20190603)\n",
            "Requirement already satisfied: wrapt>=1.11.1 in /usr/local/lib/python3.6/dist-packages (from tensorflow-gpu==2.0.0.beta0) (1.11.1)\n",
            "Requirement already satisfied: astor>=0.6.0 in /usr/local/lib/python3.6/dist-packages (from tensorflow-gpu==2.0.0.beta0) (0.8.0)\n",
            "Requirement already satisfied: wheel>=0.26 in /usr/local/lib/python3.6/dist-packages (from tensorflow-gpu==2.0.0.beta0) (0.33.4)\n",
            "Requirement already satisfied: absl-py>=0.7.0 in /usr/local/lib/python3.6/dist-packages (from tensorflow-gpu==2.0.0.beta0) (0.7.1)\n",
            "Requirement already satisfied: tf-estimator-nightly<1.14.0.dev2019060502,>=1.14.0.dev2019060501 in /usr/local/lib/python3.6/dist-packages (from tensorflow-gpu==2.0.0.beta0) (1.14.0.dev2019060501)\n",
            "Requirement already satisfied: gast>=0.2.0 in /usr/local/lib/python3.6/dist-packages (from tensorflow-gpu==2.0.0.beta0) (0.2.2)\n",
            "Requirement already satisfied: keras-applications>=1.0.6 in /usr/local/lib/python3.6/dist-packages (from tensorflow-gpu==2.0.0.beta0) (1.0.8)\n",
            "Requirement already satisfied: numpy<2.0,>=1.14.5 in /usr/local/lib/python3.6/dist-packages (from tensorflow-gpu==2.0.0.beta0) (1.16.2)\n",
            "Requirement already satisfied: grpcio>=1.8.6 in /usr/local/lib/python3.6/dist-packages (from tensorflow-gpu==2.0.0.beta0) (1.15.0)\n",
            "Requirement already satisfied: setuptools in /usr/local/lib/python3.6/dist-packages (from protobuf>=3.6.1->tensorflow-gpu==2.0.0.beta0) (41.0.1)\n",
            "Requirement already satisfied: markdown>=2.6.8 in /usr/local/lib/python3.6/dist-packages (from tb-nightly<1.14.0a20190604,>=1.14.0a20190603->tensorflow-gpu==2.0.0.beta0) (3.1.1)\n",
            "Requirement already satisfied: werkzeug>=0.11.15 in /usr/local/lib/python3.6/dist-packages (from tb-nightly<1.14.0a20190604,>=1.14.0a20190603->tensorflow-gpu==2.0.0.beta0) (0.15.4)\n",
            "Requirement already satisfied: h5py in /usr/local/lib/python3.6/dist-packages (from keras-applications>=1.0.6->tensorflow-gpu==2.0.0.beta0) (2.8.0)\n"
          ],
          "name": "stdout"
        }
      ]
    },
    {
      "cell_type": "code",
      "metadata": {
        "id": "sRmXDMBw5nL3",
        "colab_type": "code",
        "outputId": "c59f2839-f35a-481f-83f1-a26425ddf345",
        "colab": {
          "base_uri": "https://localhost:8080/",
          "height": 34
        }
      },
      "source": [
        "#this version of numpy is required to avoid an error related to numpy defaulting to not allowing pickle files\n",
        "!pip install numpy==1.16.2"
      ],
      "execution_count": 2,
      "outputs": [
        {
          "output_type": "stream",
          "text": [
            "Requirement already satisfied: numpy==1.16.2 in /usr/local/lib/python3.6/dist-packages (1.16.2)\n"
          ],
          "name": "stdout"
        }
      ]
    },
    {
      "cell_type": "code",
      "metadata": {
        "id": "n4rapo9g54er",
        "colab_type": "code",
        "outputId": "eb614bf6-a489-4a75-fe23-51f0b4e57af8",
        "colab": {
          "base_uri": "https://localhost:8080/",
          "height": 101
        }
      },
      "source": [
        "!pip install pandas==0.24"
      ],
      "execution_count": 3,
      "outputs": [
        {
          "output_type": "stream",
          "text": [
            "Requirement already satisfied: pandas==0.24 in /usr/local/lib/python3.6/dist-packages (0.24.0)\n",
            "Requirement already satisfied: numpy>=1.12.0 in /usr/local/lib/python3.6/dist-packages (from pandas==0.24) (1.16.2)\n",
            "Requirement already satisfied: pytz>=2011k in /usr/local/lib/python3.6/dist-packages (from pandas==0.24) (2018.9)\n",
            "Requirement already satisfied: python-dateutil>=2.5.0 in /usr/local/lib/python3.6/dist-packages (from pandas==0.24) (2.5.3)\n",
            "Requirement already satisfied: six>=1.5 in /usr/local/lib/python3.6/dist-packages (from python-dateutil>=2.5.0->pandas==0.24) (1.12.0)\n"
          ],
          "name": "stdout"
        }
      ]
    },
    {
      "cell_type": "code",
      "metadata": {
        "id": "8jL9HUm058HX",
        "colab_type": "code",
        "colab": {}
      },
      "source": [
        "import tensorflow as tf\n",
        "from tensorflow.keras import datasets, preprocessing, models, layers\n",
        "import numpy as np\n",
        "import pandas as pd"
      ],
      "execution_count": 0,
      "outputs": []
    },
    {
      "cell_type": "markdown",
      "metadata": {
        "id": "1nHXk-hk6Au7",
        "colab_type": "text"
      },
      "source": [
        "## Connect to Google Drive"
      ]
    },
    {
      "cell_type": "code",
      "metadata": {
        "id": "GWjz6UZR5_dc",
        "colab_type": "code",
        "outputId": "96c2ac68-6957-4797-c42a-254c5070c531",
        "colab": {
          "base_uri": "https://localhost:8080/",
          "height": 34
        }
      },
      "source": [
        "from google.colab import drive\n",
        "drive.mount('/content/gdrive')"
      ],
      "execution_count": 5,
      "outputs": [
        {
          "output_type": "stream",
          "text": [
            "Drive already mounted at /content/gdrive; to attempt to forcibly remount, call drive.mount(\"/content/gdrive\", force_remount=True).\n"
          ],
          "name": "stdout"
        }
      ]
    },
    {
      "cell_type": "code",
      "metadata": {
        "id": "SZ8o3QPt6c7U",
        "colab_type": "code",
        "colab": {}
      },
      "source": [
        "df = pd.read_csv('/content/gdrive/My Drive/temperature/jena_climate_2009_2016.csv')"
      ],
      "execution_count": 0,
      "outputs": []
    },
    {
      "cell_type": "markdown",
      "metadata": {
        "id": "W-g0-_LI6r_H",
        "colab_type": "text"
      },
      "source": [
        "## Work with Temperature Data Only"
      ]
    },
    {
      "cell_type": "code",
      "metadata": {
        "id": "T9m5VE6h6ij_",
        "colab_type": "code",
        "colab": {}
      },
      "source": [
        "df = df[['Date Time', 'T (degC)']]\n",
        "df['DateTime'] = pd.to_datetime(df['Date Time'], format=\"%d.%m.%Y %H:%M:%S\")"
      ],
      "execution_count": 0,
      "outputs": []
    },
    {
      "cell_type": "code",
      "metadata": {
        "id": "xEC2ob066wXd",
        "colab_type": "code",
        "outputId": "14d3ee0b-ecc4-43ce-f625-10d0e980350d",
        "colab": {
          "base_uri": "https://localhost:8080/",
          "height": 1911
        }
      },
      "source": [
        "df.set_index(['DateTime'])"
      ],
      "execution_count": 8,
      "outputs": [
        {
          "output_type": "execute_result",
          "data": {
            "text/html": [
              "<div>\n",
              "<style scoped>\n",
              "    .dataframe tbody tr th:only-of-type {\n",
              "        vertical-align: middle;\n",
              "    }\n",
              "\n",
              "    .dataframe tbody tr th {\n",
              "        vertical-align: top;\n",
              "    }\n",
              "\n",
              "    .dataframe thead th {\n",
              "        text-align: right;\n",
              "    }\n",
              "</style>\n",
              "<table border=\"1\" class=\"dataframe\">\n",
              "  <thead>\n",
              "    <tr style=\"text-align: right;\">\n",
              "      <th></th>\n",
              "      <th>Date Time</th>\n",
              "      <th>T (degC)</th>\n",
              "    </tr>\n",
              "    <tr>\n",
              "      <th>DateTime</th>\n",
              "      <th></th>\n",
              "      <th></th>\n",
              "    </tr>\n",
              "  </thead>\n",
              "  <tbody>\n",
              "    <tr>\n",
              "      <th>2009-01-01 00:10:00</th>\n",
              "      <td>01.01.2009 00:10:00</td>\n",
              "      <td>-8.02</td>\n",
              "    </tr>\n",
              "    <tr>\n",
              "      <th>2009-01-01 00:20:00</th>\n",
              "      <td>01.01.2009 00:20:00</td>\n",
              "      <td>-8.41</td>\n",
              "    </tr>\n",
              "    <tr>\n",
              "      <th>2009-01-01 00:30:00</th>\n",
              "      <td>01.01.2009 00:30:00</td>\n",
              "      <td>-8.51</td>\n",
              "    </tr>\n",
              "    <tr>\n",
              "      <th>2009-01-01 00:40:00</th>\n",
              "      <td>01.01.2009 00:40:00</td>\n",
              "      <td>-8.31</td>\n",
              "    </tr>\n",
              "    <tr>\n",
              "      <th>2009-01-01 00:50:00</th>\n",
              "      <td>01.01.2009 00:50:00</td>\n",
              "      <td>-8.27</td>\n",
              "    </tr>\n",
              "    <tr>\n",
              "      <th>2009-01-01 01:00:00</th>\n",
              "      <td>01.01.2009 01:00:00</td>\n",
              "      <td>-8.05</td>\n",
              "    </tr>\n",
              "    <tr>\n",
              "      <th>2009-01-01 01:10:00</th>\n",
              "      <td>01.01.2009 01:10:00</td>\n",
              "      <td>-7.62</td>\n",
              "    </tr>\n",
              "    <tr>\n",
              "      <th>2009-01-01 01:20:00</th>\n",
              "      <td>01.01.2009 01:20:00</td>\n",
              "      <td>-7.62</td>\n",
              "    </tr>\n",
              "    <tr>\n",
              "      <th>2009-01-01 01:30:00</th>\n",
              "      <td>01.01.2009 01:30:00</td>\n",
              "      <td>-7.91</td>\n",
              "    </tr>\n",
              "    <tr>\n",
              "      <th>2009-01-01 01:40:00</th>\n",
              "      <td>01.01.2009 01:40:00</td>\n",
              "      <td>-8.43</td>\n",
              "    </tr>\n",
              "    <tr>\n",
              "      <th>2009-01-01 01:50:00</th>\n",
              "      <td>01.01.2009 01:50:00</td>\n",
              "      <td>-8.76</td>\n",
              "    </tr>\n",
              "    <tr>\n",
              "      <th>2009-01-01 02:00:00</th>\n",
              "      <td>01.01.2009 02:00:00</td>\n",
              "      <td>-8.88</td>\n",
              "    </tr>\n",
              "    <tr>\n",
              "      <th>2009-01-01 02:10:00</th>\n",
              "      <td>01.01.2009 02:10:00</td>\n",
              "      <td>-8.85</td>\n",
              "    </tr>\n",
              "    <tr>\n",
              "      <th>2009-01-01 02:20:00</th>\n",
              "      <td>01.01.2009 02:20:00</td>\n",
              "      <td>-8.83</td>\n",
              "    </tr>\n",
              "    <tr>\n",
              "      <th>2009-01-01 02:30:00</th>\n",
              "      <td>01.01.2009 02:30:00</td>\n",
              "      <td>-8.66</td>\n",
              "    </tr>\n",
              "    <tr>\n",
              "      <th>2009-01-01 02:40:00</th>\n",
              "      <td>01.01.2009 02:40:00</td>\n",
              "      <td>-8.66</td>\n",
              "    </tr>\n",
              "    <tr>\n",
              "      <th>2009-01-01 02:50:00</th>\n",
              "      <td>01.01.2009 02:50:00</td>\n",
              "      <td>-8.70</td>\n",
              "    </tr>\n",
              "    <tr>\n",
              "      <th>2009-01-01 03:00:00</th>\n",
              "      <td>01.01.2009 03:00:00</td>\n",
              "      <td>-8.81</td>\n",
              "    </tr>\n",
              "    <tr>\n",
              "      <th>2009-01-01 03:10:00</th>\n",
              "      <td>01.01.2009 03:10:00</td>\n",
              "      <td>-8.84</td>\n",
              "    </tr>\n",
              "    <tr>\n",
              "      <th>2009-01-01 03:20:00</th>\n",
              "      <td>01.01.2009 03:20:00</td>\n",
              "      <td>-8.94</td>\n",
              "    </tr>\n",
              "    <tr>\n",
              "      <th>2009-01-01 03:30:00</th>\n",
              "      <td>01.01.2009 03:30:00</td>\n",
              "      <td>-8.94</td>\n",
              "    </tr>\n",
              "    <tr>\n",
              "      <th>2009-01-01 03:40:00</th>\n",
              "      <td>01.01.2009 03:40:00</td>\n",
              "      <td>-8.86</td>\n",
              "    </tr>\n",
              "    <tr>\n",
              "      <th>2009-01-01 03:50:00</th>\n",
              "      <td>01.01.2009 03:50:00</td>\n",
              "      <td>-8.99</td>\n",
              "    </tr>\n",
              "    <tr>\n",
              "      <th>2009-01-01 04:00:00</th>\n",
              "      <td>01.01.2009 04:00:00</td>\n",
              "      <td>-9.05</td>\n",
              "    </tr>\n",
              "    <tr>\n",
              "      <th>2009-01-01 04:10:00</th>\n",
              "      <td>01.01.2009 04:10:00</td>\n",
              "      <td>-9.23</td>\n",
              "    </tr>\n",
              "    <tr>\n",
              "      <th>2009-01-01 04:20:00</th>\n",
              "      <td>01.01.2009 04:20:00</td>\n",
              "      <td>-9.49</td>\n",
              "    </tr>\n",
              "    <tr>\n",
              "      <th>2009-01-01 04:30:00</th>\n",
              "      <td>01.01.2009 04:30:00</td>\n",
              "      <td>-9.50</td>\n",
              "    </tr>\n",
              "    <tr>\n",
              "      <th>2009-01-01 04:40:00</th>\n",
              "      <td>01.01.2009 04:40:00</td>\n",
              "      <td>-9.35</td>\n",
              "    </tr>\n",
              "    <tr>\n",
              "      <th>2009-01-01 04:50:00</th>\n",
              "      <td>01.01.2009 04:50:00</td>\n",
              "      <td>-9.47</td>\n",
              "    </tr>\n",
              "    <tr>\n",
              "      <th>2009-01-01 05:00:00</th>\n",
              "      <td>01.01.2009 05:00:00</td>\n",
              "      <td>-9.63</td>\n",
              "    </tr>\n",
              "    <tr>\n",
              "      <th>...</th>\n",
              "      <td>...</td>\n",
              "      <td>...</td>\n",
              "    </tr>\n",
              "    <tr>\n",
              "      <th>2016-12-31 19:10:00</th>\n",
              "      <td>31.12.2016 19:10:00</td>\n",
              "      <td>-0.98</td>\n",
              "    </tr>\n",
              "    <tr>\n",
              "      <th>2016-12-31 19:20:00</th>\n",
              "      <td>31.12.2016 19:20:00</td>\n",
              "      <td>-1.40</td>\n",
              "    </tr>\n",
              "    <tr>\n",
              "      <th>2016-12-31 19:30:00</th>\n",
              "      <td>31.12.2016 19:30:00</td>\n",
              "      <td>-1.47</td>\n",
              "    </tr>\n",
              "    <tr>\n",
              "      <th>2016-12-31 19:40:00</th>\n",
              "      <td>31.12.2016 19:40:00</td>\n",
              "      <td>-1.61</td>\n",
              "    </tr>\n",
              "    <tr>\n",
              "      <th>2016-12-31 19:50:00</th>\n",
              "      <td>31.12.2016 19:50:00</td>\n",
              "      <td>-1.65</td>\n",
              "    </tr>\n",
              "    <tr>\n",
              "      <th>2016-12-31 20:00:00</th>\n",
              "      <td>31.12.2016 20:00:00</td>\n",
              "      <td>-1.52</td>\n",
              "    </tr>\n",
              "    <tr>\n",
              "      <th>2016-12-31 20:10:00</th>\n",
              "      <td>31.12.2016 20:10:00</td>\n",
              "      <td>-1.40</td>\n",
              "    </tr>\n",
              "    <tr>\n",
              "      <th>2016-12-31 20:20:00</th>\n",
              "      <td>31.12.2016 20:20:00</td>\n",
              "      <td>-2.15</td>\n",
              "    </tr>\n",
              "    <tr>\n",
              "      <th>2016-12-31 20:30:00</th>\n",
              "      <td>31.12.2016 20:30:00</td>\n",
              "      <td>-3.19</td>\n",
              "    </tr>\n",
              "    <tr>\n",
              "      <th>2016-12-31 20:40:00</th>\n",
              "      <td>31.12.2016 20:40:00</td>\n",
              "      <td>-3.30</td>\n",
              "    </tr>\n",
              "    <tr>\n",
              "      <th>2016-12-31 20:50:00</th>\n",
              "      <td>31.12.2016 20:50:00</td>\n",
              "      <td>-3.46</td>\n",
              "    </tr>\n",
              "    <tr>\n",
              "      <th>2016-12-31 21:00:00</th>\n",
              "      <td>31.12.2016 21:00:00</td>\n",
              "      <td>-3.09</td>\n",
              "    </tr>\n",
              "    <tr>\n",
              "      <th>2016-12-31 21:10:00</th>\n",
              "      <td>31.12.2016 21:10:00</td>\n",
              "      <td>-2.75</td>\n",
              "    </tr>\n",
              "    <tr>\n",
              "      <th>2016-12-31 21:20:00</th>\n",
              "      <td>31.12.2016 21:20:00</td>\n",
              "      <td>-2.61</td>\n",
              "    </tr>\n",
              "    <tr>\n",
              "      <th>2016-12-31 21:30:00</th>\n",
              "      <td>31.12.2016 21:30:00</td>\n",
              "      <td>-2.51</td>\n",
              "    </tr>\n",
              "    <tr>\n",
              "      <th>2016-12-31 21:40:00</th>\n",
              "      <td>31.12.2016 21:40:00</td>\n",
              "      <td>-2.48</td>\n",
              "    </tr>\n",
              "    <tr>\n",
              "      <th>2016-12-31 21:50:00</th>\n",
              "      <td>31.12.2016 21:50:00</td>\n",
              "      <td>-2.48</td>\n",
              "    </tr>\n",
              "    <tr>\n",
              "      <th>2016-12-31 22:00:00</th>\n",
              "      <td>31.12.2016 22:00:00</td>\n",
              "      <td>-2.59</td>\n",
              "    </tr>\n",
              "    <tr>\n",
              "      <th>2016-12-31 22:10:00</th>\n",
              "      <td>31.12.2016 22:10:00</td>\n",
              "      <td>-2.89</td>\n",
              "    </tr>\n",
              "    <tr>\n",
              "      <th>2016-12-31 22:20:00</th>\n",
              "      <td>31.12.2016 22:20:00</td>\n",
              "      <td>-3.22</td>\n",
              "    </tr>\n",
              "    <tr>\n",
              "      <th>2016-12-31 22:30:00</th>\n",
              "      <td>31.12.2016 22:30:00</td>\n",
              "      <td>-4.08</td>\n",
              "    </tr>\n",
              "    <tr>\n",
              "      <th>2016-12-31 22:40:00</th>\n",
              "      <td>31.12.2016 22:40:00</td>\n",
              "      <td>-4.45</td>\n",
              "    </tr>\n",
              "    <tr>\n",
              "      <th>2016-12-31 22:50:00</th>\n",
              "      <td>31.12.2016 22:50:00</td>\n",
              "      <td>-4.09</td>\n",
              "    </tr>\n",
              "    <tr>\n",
              "      <th>2016-12-31 23:00:00</th>\n",
              "      <td>31.12.2016 23:00:00</td>\n",
              "      <td>-3.76</td>\n",
              "    </tr>\n",
              "    <tr>\n",
              "      <th>2016-12-31 23:10:00</th>\n",
              "      <td>31.12.2016 23:10:00</td>\n",
              "      <td>-3.93</td>\n",
              "    </tr>\n",
              "    <tr>\n",
              "      <th>2016-12-31 23:20:00</th>\n",
              "      <td>31.12.2016 23:20:00</td>\n",
              "      <td>-4.05</td>\n",
              "    </tr>\n",
              "    <tr>\n",
              "      <th>2016-12-31 23:30:00</th>\n",
              "      <td>31.12.2016 23:30:00</td>\n",
              "      <td>-3.35</td>\n",
              "    </tr>\n",
              "    <tr>\n",
              "      <th>2016-12-31 23:40:00</th>\n",
              "      <td>31.12.2016 23:40:00</td>\n",
              "      <td>-3.16</td>\n",
              "    </tr>\n",
              "    <tr>\n",
              "      <th>2016-12-31 23:50:00</th>\n",
              "      <td>31.12.2016 23:50:00</td>\n",
              "      <td>-4.23</td>\n",
              "    </tr>\n",
              "    <tr>\n",
              "      <th>2017-01-01 00:00:00</th>\n",
              "      <td>01.01.2017 00:00:00</td>\n",
              "      <td>-4.82</td>\n",
              "    </tr>\n",
              "  </tbody>\n",
              "</table>\n",
              "<p>420551 rows × 2 columns</p>\n",
              "</div>"
            ],
            "text/plain": [
              "                               Date Time  T (degC)\n",
              "DateTime                                          \n",
              "2009-01-01 00:10:00  01.01.2009 00:10:00     -8.02\n",
              "2009-01-01 00:20:00  01.01.2009 00:20:00     -8.41\n",
              "2009-01-01 00:30:00  01.01.2009 00:30:00     -8.51\n",
              "2009-01-01 00:40:00  01.01.2009 00:40:00     -8.31\n",
              "2009-01-01 00:50:00  01.01.2009 00:50:00     -8.27\n",
              "2009-01-01 01:00:00  01.01.2009 01:00:00     -8.05\n",
              "2009-01-01 01:10:00  01.01.2009 01:10:00     -7.62\n",
              "2009-01-01 01:20:00  01.01.2009 01:20:00     -7.62\n",
              "2009-01-01 01:30:00  01.01.2009 01:30:00     -7.91\n",
              "2009-01-01 01:40:00  01.01.2009 01:40:00     -8.43\n",
              "2009-01-01 01:50:00  01.01.2009 01:50:00     -8.76\n",
              "2009-01-01 02:00:00  01.01.2009 02:00:00     -8.88\n",
              "2009-01-01 02:10:00  01.01.2009 02:10:00     -8.85\n",
              "2009-01-01 02:20:00  01.01.2009 02:20:00     -8.83\n",
              "2009-01-01 02:30:00  01.01.2009 02:30:00     -8.66\n",
              "2009-01-01 02:40:00  01.01.2009 02:40:00     -8.66\n",
              "2009-01-01 02:50:00  01.01.2009 02:50:00     -8.70\n",
              "2009-01-01 03:00:00  01.01.2009 03:00:00     -8.81\n",
              "2009-01-01 03:10:00  01.01.2009 03:10:00     -8.84\n",
              "2009-01-01 03:20:00  01.01.2009 03:20:00     -8.94\n",
              "2009-01-01 03:30:00  01.01.2009 03:30:00     -8.94\n",
              "2009-01-01 03:40:00  01.01.2009 03:40:00     -8.86\n",
              "2009-01-01 03:50:00  01.01.2009 03:50:00     -8.99\n",
              "2009-01-01 04:00:00  01.01.2009 04:00:00     -9.05\n",
              "2009-01-01 04:10:00  01.01.2009 04:10:00     -9.23\n",
              "2009-01-01 04:20:00  01.01.2009 04:20:00     -9.49\n",
              "2009-01-01 04:30:00  01.01.2009 04:30:00     -9.50\n",
              "2009-01-01 04:40:00  01.01.2009 04:40:00     -9.35\n",
              "2009-01-01 04:50:00  01.01.2009 04:50:00     -9.47\n",
              "2009-01-01 05:00:00  01.01.2009 05:00:00     -9.63\n",
              "...                                  ...       ...\n",
              "2016-12-31 19:10:00  31.12.2016 19:10:00     -0.98\n",
              "2016-12-31 19:20:00  31.12.2016 19:20:00     -1.40\n",
              "2016-12-31 19:30:00  31.12.2016 19:30:00     -1.47\n",
              "2016-12-31 19:40:00  31.12.2016 19:40:00     -1.61\n",
              "2016-12-31 19:50:00  31.12.2016 19:50:00     -1.65\n",
              "2016-12-31 20:00:00  31.12.2016 20:00:00     -1.52\n",
              "2016-12-31 20:10:00  31.12.2016 20:10:00     -1.40\n",
              "2016-12-31 20:20:00  31.12.2016 20:20:00     -2.15\n",
              "2016-12-31 20:30:00  31.12.2016 20:30:00     -3.19\n",
              "2016-12-31 20:40:00  31.12.2016 20:40:00     -3.30\n",
              "2016-12-31 20:50:00  31.12.2016 20:50:00     -3.46\n",
              "2016-12-31 21:00:00  31.12.2016 21:00:00     -3.09\n",
              "2016-12-31 21:10:00  31.12.2016 21:10:00     -2.75\n",
              "2016-12-31 21:20:00  31.12.2016 21:20:00     -2.61\n",
              "2016-12-31 21:30:00  31.12.2016 21:30:00     -2.51\n",
              "2016-12-31 21:40:00  31.12.2016 21:40:00     -2.48\n",
              "2016-12-31 21:50:00  31.12.2016 21:50:00     -2.48\n",
              "2016-12-31 22:00:00  31.12.2016 22:00:00     -2.59\n",
              "2016-12-31 22:10:00  31.12.2016 22:10:00     -2.89\n",
              "2016-12-31 22:20:00  31.12.2016 22:20:00     -3.22\n",
              "2016-12-31 22:30:00  31.12.2016 22:30:00     -4.08\n",
              "2016-12-31 22:40:00  31.12.2016 22:40:00     -4.45\n",
              "2016-12-31 22:50:00  31.12.2016 22:50:00     -4.09\n",
              "2016-12-31 23:00:00  31.12.2016 23:00:00     -3.76\n",
              "2016-12-31 23:10:00  31.12.2016 23:10:00     -3.93\n",
              "2016-12-31 23:20:00  31.12.2016 23:20:00     -4.05\n",
              "2016-12-31 23:30:00  31.12.2016 23:30:00     -3.35\n",
              "2016-12-31 23:40:00  31.12.2016 23:40:00     -3.16\n",
              "2016-12-31 23:50:00  31.12.2016 23:50:00     -4.23\n",
              "2017-01-01 00:00:00  01.01.2017 00:00:00     -4.82\n",
              "\n",
              "[420551 rows x 2 columns]"
            ]
          },
          "metadata": {
            "tags": []
          },
          "execution_count": 8
        }
      ]
    },
    {
      "cell_type": "code",
      "metadata": {
        "id": "oqreMLke60ZM",
        "colab_type": "code",
        "colab": {}
      },
      "source": [
        ""
      ],
      "execution_count": 0,
      "outputs": []
    },
    {
      "cell_type": "markdown",
      "metadata": {
        "id": "c7G9TkM26-lC",
        "colab_type": "text"
      },
      "source": [
        "## Extract Time Series Data"
      ]
    },
    {
      "cell_type": "code",
      "metadata": {
        "id": "TKxL7SQv7Apd",
        "colab_type": "code",
        "colab": {}
      },
      "source": [
        "time_series_df = df.set_index(['DateTime'])"
      ],
      "execution_count": 0,
      "outputs": []
    },
    {
      "cell_type": "code",
      "metadata": {
        "id": "K4jy0pjc7CZc",
        "colab_type": "code",
        "outputId": "78ee25b6-7cb3-4eb5-84b1-4e63d43dd675",
        "colab": {
          "base_uri": "https://localhost:8080/",
          "height": 134
        }
      },
      "source": [
        "time_series_df.info()"
      ],
      "execution_count": 10,
      "outputs": [
        {
          "output_type": "stream",
          "text": [
            "<class 'pandas.core.frame.DataFrame'>\n",
            "DatetimeIndex: 420551 entries, 2009-01-01 00:10:00 to 2017-01-01 00:00:00\n",
            "Data columns (total 2 columns):\n",
            "Date Time    420551 non-null object\n",
            "T (degC)     420551 non-null float64\n",
            "dtypes: float64(1), object(1)\n",
            "memory usage: 9.6+ MB\n"
          ],
          "name": "stdout"
        }
      ]
    },
    {
      "cell_type": "code",
      "metadata": {
        "id": "CViIgvqE7Fbm",
        "colab_type": "code",
        "colab": {}
      },
      "source": [
        "time_series_df.drop(['Date Time'], axis=1, inplace=True)"
      ],
      "execution_count": 0,
      "outputs": []
    },
    {
      "cell_type": "markdown",
      "metadata": {
        "id": "Iq4j69Pg7lCa",
        "colab_type": "text"
      },
      "source": [
        "## Resample to Mean Daily Temperature"
      ]
    },
    {
      "cell_type": "code",
      "metadata": {
        "id": "hmt1zRpr7V3R",
        "colab_type": "code",
        "outputId": "60b16120-4542-41be-8533-4d1f5cb1e99d",
        "colab": {
          "base_uri": "https://localhost:8080/",
          "height": 0
        }
      },
      "source": [
        "mean_daily_temp = time_series_df.resample('D').mean()\n",
        "mean_daily_temp.info()"
      ],
      "execution_count": 12,
      "outputs": [
        {
          "output_type": "stream",
          "text": [
            "<class 'pandas.core.frame.DataFrame'>\n",
            "DatetimeIndex: 2923 entries, 2009-01-01 to 2017-01-01\n",
            "Freq: D\n",
            "Data columns (total 1 columns):\n",
            "T (degC)    2921 non-null float64\n",
            "dtypes: float64(1)\n",
            "memory usage: 45.7 KB\n"
          ],
          "name": "stdout"
        }
      ]
    },
    {
      "cell_type": "code",
      "metadata": {
        "id": "HTd39lY77vir",
        "colab_type": "code",
        "colab": {}
      },
      "source": [
        "test_daily_temp = mean_daily_temp['2016']\n",
        "train_daily_temp = mean_daily_temp['2009':'2015']"
      ],
      "execution_count": 0,
      "outputs": []
    },
    {
      "cell_type": "code",
      "metadata": {
        "id": "a8yH2wy58Bbk",
        "colab_type": "code",
        "colab": {}
      },
      "source": [
        ""
      ],
      "execution_count": 0,
      "outputs": []
    },
    {
      "cell_type": "markdown",
      "metadata": {
        "id": "ebXgcN0u8O_O",
        "colab_type": "text"
      },
      "source": [
        "## Reset Indices"
      ]
    },
    {
      "cell_type": "code",
      "metadata": {
        "id": "N8bABhi38QPA",
        "colab_type": "code",
        "outputId": "1e1c195b-fdb5-4456-dc8a-c3f5873ea6f5",
        "colab": {
          "base_uri": "https://localhost:8080/",
          "height": 0
        }
      },
      "source": [
        "test_daily_temp.reset_index(inplace=True)\n",
        "test_daily_temp.reset_index(inplace=True)\n",
        "test_daily_temp.head()"
      ],
      "execution_count": 14,
      "outputs": [
        {
          "output_type": "execute_result",
          "data": {
            "text/html": [
              "<div>\n",
              "<style scoped>\n",
              "    .dataframe tbody tr th:only-of-type {\n",
              "        vertical-align: middle;\n",
              "    }\n",
              "\n",
              "    .dataframe tbody tr th {\n",
              "        vertical-align: top;\n",
              "    }\n",
              "\n",
              "    .dataframe thead th {\n",
              "        text-align: right;\n",
              "    }\n",
              "</style>\n",
              "<table border=\"1\" class=\"dataframe\">\n",
              "  <thead>\n",
              "    <tr style=\"text-align: right;\">\n",
              "      <th></th>\n",
              "      <th>index</th>\n",
              "      <th>DateTime</th>\n",
              "      <th>T (degC)</th>\n",
              "    </tr>\n",
              "  </thead>\n",
              "  <tbody>\n",
              "    <tr>\n",
              "      <th>0</th>\n",
              "      <td>0</td>\n",
              "      <td>2016-01-01</td>\n",
              "      <td>0.249236</td>\n",
              "    </tr>\n",
              "    <tr>\n",
              "      <th>1</th>\n",
              "      <td>1</td>\n",
              "      <td>2016-01-02</td>\n",
              "      <td>-0.975486</td>\n",
              "    </tr>\n",
              "    <tr>\n",
              "      <th>2</th>\n",
              "      <td>2</td>\n",
              "      <td>2016-01-03</td>\n",
              "      <td>-1.578056</td>\n",
              "    </tr>\n",
              "    <tr>\n",
              "      <th>3</th>\n",
              "      <td>3</td>\n",
              "      <td>2016-01-04</td>\n",
              "      <td>-2.081111</td>\n",
              "    </tr>\n",
              "    <tr>\n",
              "      <th>4</th>\n",
              "      <td>4</td>\n",
              "      <td>2016-01-05</td>\n",
              "      <td>-1.761319</td>\n",
              "    </tr>\n",
              "  </tbody>\n",
              "</table>\n",
              "</div>"
            ],
            "text/plain": [
              "   index   DateTime  T (degC)\n",
              "0      0 2016-01-01  0.249236\n",
              "1      1 2016-01-02 -0.975486\n",
              "2      2 2016-01-03 -1.578056\n",
              "3      3 2016-01-04 -2.081111\n",
              "4      4 2016-01-05 -1.761319"
            ]
          },
          "metadata": {
            "tags": []
          },
          "execution_count": 14
        }
      ]
    },
    {
      "cell_type": "code",
      "metadata": {
        "id": "u3uZHsTw8U7e",
        "colab_type": "code",
        "outputId": "e31f26df-5d4c-43d9-d316-1ed09e227673",
        "colab": {
          "base_uri": "https://localhost:8080/",
          "height": 0
        }
      },
      "source": [
        "train_daily_temp.reset_index(inplace=True)\n",
        "train_daily_temp.reset_index(inplace=True)\n",
        "train_daily_temp.head()"
      ],
      "execution_count": 15,
      "outputs": [
        {
          "output_type": "execute_result",
          "data": {
            "text/html": [
              "<div>\n",
              "<style scoped>\n",
              "    .dataframe tbody tr th:only-of-type {\n",
              "        vertical-align: middle;\n",
              "    }\n",
              "\n",
              "    .dataframe tbody tr th {\n",
              "        vertical-align: top;\n",
              "    }\n",
              "\n",
              "    .dataframe thead th {\n",
              "        text-align: right;\n",
              "    }\n",
              "</style>\n",
              "<table border=\"1\" class=\"dataframe\">\n",
              "  <thead>\n",
              "    <tr style=\"text-align: right;\">\n",
              "      <th></th>\n",
              "      <th>index</th>\n",
              "      <th>DateTime</th>\n",
              "      <th>T (degC)</th>\n",
              "    </tr>\n",
              "  </thead>\n",
              "  <tbody>\n",
              "    <tr>\n",
              "      <th>0</th>\n",
              "      <td>0</td>\n",
              "      <td>2009-01-01</td>\n",
              "      <td>-6.810629</td>\n",
              "    </tr>\n",
              "    <tr>\n",
              "      <th>1</th>\n",
              "      <td>1</td>\n",
              "      <td>2009-01-02</td>\n",
              "      <td>-3.728194</td>\n",
              "    </tr>\n",
              "    <tr>\n",
              "      <th>2</th>\n",
              "      <td>2</td>\n",
              "      <td>2009-01-03</td>\n",
              "      <td>-5.271736</td>\n",
              "    </tr>\n",
              "    <tr>\n",
              "      <th>3</th>\n",
              "      <td>3</td>\n",
              "      <td>2009-01-04</td>\n",
              "      <td>-1.375208</td>\n",
              "    </tr>\n",
              "    <tr>\n",
              "      <th>4</th>\n",
              "      <td>4</td>\n",
              "      <td>2009-01-05</td>\n",
              "      <td>-4.867153</td>\n",
              "    </tr>\n",
              "  </tbody>\n",
              "</table>\n",
              "</div>"
            ],
            "text/plain": [
              "   index   DateTime  T (degC)\n",
              "0      0 2009-01-01 -6.810629\n",
              "1      1 2009-01-02 -3.728194\n",
              "2      2 2009-01-03 -5.271736\n",
              "3      3 2009-01-04 -1.375208\n",
              "4      4 2009-01-05 -4.867153"
            ]
          },
          "metadata": {
            "tags": []
          },
          "execution_count": 15
        }
      ]
    },
    {
      "cell_type": "code",
      "metadata": {
        "id": "PSHlIDR79AuM",
        "colab_type": "code",
        "colab": {}
      },
      "source": [
        ""
      ],
      "execution_count": 0,
      "outputs": []
    },
    {
      "cell_type": "markdown",
      "metadata": {
        "id": "471dBwAp9h6G",
        "colab_type": "text"
      },
      "source": [
        "## Extract Time Steps"
      ]
    },
    {
      "cell_type": "code",
      "metadata": {
        "id": "HZq0Knqx9j8o",
        "colab_type": "code",
        "colab": {}
      },
      "source": [
        "train_x = train_daily_temp[['index']].to_numpy()\n",
        "train_y = train_daily_temp[['T (degC)']].to_numpy()"
      ],
      "execution_count": 0,
      "outputs": []
    },
    {
      "cell_type": "code",
      "metadata": {
        "id": "awGqlbTk91Ro",
        "colab_type": "code",
        "outputId": "2eaefbf8-9b31-4a2c-b1c6-a8d614d0c2e7",
        "colab": {
          "base_uri": "https://localhost:8080/",
          "height": 0
        }
      },
      "source": [
        "print(train_x.shape)"
      ],
      "execution_count": 17,
      "outputs": [
        {
          "output_type": "stream",
          "text": [
            "(2556, 1)\n"
          ],
          "name": "stdout"
        }
      ]
    },
    {
      "cell_type": "code",
      "metadata": {
        "id": "nE5F2gGb93sY",
        "colab_type": "code",
        "colab": {}
      },
      "source": [
        "test_x = test_daily_temp[['index']].to_numpy()\n",
        "test_y = test_daily_temp[['T (degC)']].to_numpy()"
      ],
      "execution_count": 0,
      "outputs": []
    },
    {
      "cell_type": "code",
      "metadata": {
        "id": "3HHZs1JD-NPl",
        "colab_type": "code",
        "colab": {}
      },
      "source": [
        ""
      ],
      "execution_count": 0,
      "outputs": []
    },
    {
      "cell_type": "markdown",
      "metadata": {
        "id": "mfc-ZXBu-PbK",
        "colab_type": "text"
      },
      "source": [
        "## Create Generator"
      ]
    },
    {
      "cell_type": "code",
      "metadata": {
        "id": "n_nxdBUa-Q2b",
        "colab_type": "code",
        "colab": {}
      },
      "source": [
        "from tensorflow.keras.preprocessing.sequence import TimeseriesGenerator"
      ],
      "execution_count": 0,
      "outputs": []
    },
    {
      "cell_type": "code",
      "metadata": {
        "id": "9R0SF9YkCdi9",
        "colab_type": "code",
        "colab": {}
      },
      "source": [
        "N_INPUT = 128\n",
        "BATCH_SIZE = 64"
      ],
      "execution_count": 0,
      "outputs": []
    },
    {
      "cell_type": "code",
      "metadata": {
        "id": "URqQP_f3-dgJ",
        "colab_type": "code",
        "colab": {}
      },
      "source": [
        "train_gen = TimeseriesGenerator(train_x, train_y, length=N_INPUT, sampling_rate=7, batch_size=BATCH_SIZE)"
      ],
      "execution_count": 0,
      "outputs": []
    },
    {
      "cell_type": "code",
      "metadata": {
        "id": "AFXgLgtQ_UeX",
        "colab_type": "code",
        "outputId": "dd781d3b-41ce-47ec-c1a6-909da0aa4dd6",
        "colab": {
          "base_uri": "https://localhost:8080/",
          "height": 0
        }
      },
      "source": [
        "print(len(train_gen))"
      ],
      "execution_count": 22,
      "outputs": [
        {
          "output_type": "stream",
          "text": [
            "38\n"
          ],
          "name": "stdout"
        }
      ]
    },
    {
      "cell_type": "code",
      "metadata": {
        "id": "7WPJc6NN_X57",
        "colab_type": "code",
        "outputId": "506d3939-d9db-41f8-cc4c-83126fb2ae75",
        "colab": {
          "base_uri": "https://localhost:8080/",
          "height": 0
        }
      },
      "source": [
        "batch_0 = train_gen[0]\n",
        "x, y = batch_0\n",
        "print(y.shape)"
      ],
      "execution_count": 23,
      "outputs": [
        {
          "output_type": "stream",
          "text": [
            "(64, 1)\n"
          ],
          "name": "stdout"
        }
      ]
    },
    {
      "cell_type": "code",
      "metadata": {
        "id": "KvFF9i4p_z8N",
        "colab_type": "code",
        "outputId": "92af6e8a-e7ed-4e9c-d076-bab8bba8818e",
        "colab": {
          "base_uri": "https://localhost:8080/",
          "height": 0
        }
      },
      "source": [
        "print(x.shape)"
      ],
      "execution_count": 24,
      "outputs": [
        {
          "output_type": "stream",
          "text": [
            "(64, 19, 1)\n"
          ],
          "name": "stdout"
        }
      ]
    },
    {
      "cell_type": "code",
      "metadata": {
        "id": "_DcWRe8V_38V",
        "colab_type": "code",
        "colab": {}
      },
      "source": [
        "test_gen = TimeseriesGenerator(test_x, test_y, length=N_INPUT, sampling_rate=7, batch_size=BATCH_SIZE)"
      ],
      "execution_count": 0,
      "outputs": []
    },
    {
      "cell_type": "code",
      "metadata": {
        "id": "--8C2x5sBaOI",
        "colab_type": "code",
        "colab": {}
      },
      "source": [
        ""
      ],
      "execution_count": 0,
      "outputs": []
    },
    {
      "cell_type": "markdown",
      "metadata": {
        "id": "6WWbWP5dB-O6",
        "colab_type": "text"
      },
      "source": [
        "## Define Dense Model"
      ]
    },
    {
      "cell_type": "code",
      "metadata": {
        "id": "0NWe4pISCAad",
        "colab_type": "code",
        "outputId": "fcb07a4c-7c8c-4e2d-8d5d-954d6ac3aaf6",
        "colab": {
          "base_uri": "https://localhost:8080/",
          "height": 0
        }
      },
      "source": [
        "model = models.Sequential([\n",
        "    layers.Dense(100, input_shape=(x.shape[1], x.shape[2]), activation='relu'),\n",
        "    layers.Flatten(),\n",
        "    layers.Dense(1)\n",
        "])\n",
        "print(model.summary())"
      ],
      "execution_count": 26,
      "outputs": [
        {
          "output_type": "stream",
          "text": [
            "Model: \"sequential\"\n",
            "_________________________________________________________________\n",
            "Layer (type)                 Output Shape              Param #   \n",
            "=================================================================\n",
            "dense (Dense)                (None, 19, 100)           200       \n",
            "_________________________________________________________________\n",
            "flatten (Flatten)            (None, 1900)              0         \n",
            "_________________________________________________________________\n",
            "dense_1 (Dense)              (None, 1)                 1901      \n",
            "=================================================================\n",
            "Total params: 2,101\n",
            "Trainable params: 2,101\n",
            "Non-trainable params: 0\n",
            "_________________________________________________________________\n",
            "None\n"
          ],
          "name": "stdout"
        }
      ]
    },
    {
      "cell_type": "code",
      "metadata": {
        "id": "1jNXqrxzEPEo",
        "colab_type": "code",
        "colab": {}
      },
      "source": [
        "model.compile(optimizer='adam', loss='mse')"
      ],
      "execution_count": 0,
      "outputs": []
    },
    {
      "cell_type": "code",
      "metadata": {
        "id": "Hnz8FM0FElbD",
        "colab_type": "code",
        "outputId": "7131b2cb-7b8e-4f28-a986-bf4a22ea89aa",
        "colab": {
          "base_uri": "https://localhost:8080/",
          "height": 0
        }
      },
      "source": [
        "model.fit_generator(train_gen, epochs=5)"
      ],
      "execution_count": 28,
      "outputs": [
        {
          "output_type": "stream",
          "text": [
            "Epoch 1/5\n",
            "38/38 [==============================] - 1s 20ms/step - loss: 4156.9733\n",
            "Epoch 2/5\n",
            "38/38 [==============================] - 0s 4ms/step - loss: 3740.8466\n",
            "Epoch 3/5\n",
            "38/38 [==============================] - 0s 5ms/step - loss: 1218.1204\n",
            "Epoch 4/5\n",
            "38/38 [==============================] - 0s 5ms/step - loss: 206.0146\n",
            "Epoch 5/5\n",
            "38/38 [==============================] - 0s 5ms/step - loss: 1723.9119\n"
          ],
          "name": "stdout"
        },
        {
          "output_type": "execute_result",
          "data": {
            "text/plain": [
              "<tensorflow.python.keras.callbacks.History at 0x7f4d5e9c4860>"
            ]
          },
          "metadata": {
            "tags": []
          },
          "execution_count": 28
        }
      ]
    },
    {
      "cell_type": "code",
      "metadata": {
        "id": "sychhNjLExr8",
        "colab_type": "code",
        "colab": {}
      },
      "source": [
        "example = test_gen[0]\n",
        "x, y = example\n",
        "y_pred = model.predict(x)"
      ],
      "execution_count": 0,
      "outputs": []
    },
    {
      "cell_type": "code",
      "metadata": {
        "id": "wC9JA807Gfcs",
        "colab_type": "code",
        "outputId": "e6e3139f-f0cc-4843-ea42-60678a2a729b",
        "colab": {
          "base_uri": "https://localhost:8080/",
          "height": 0
        }
      },
      "source": [
        "print(len(y_pred))"
      ],
      "execution_count": 30,
      "outputs": [
        {
          "output_type": "stream",
          "text": [
            "64\n"
          ],
          "name": "stdout"
        }
      ]
    },
    {
      "cell_type": "code",
      "metadata": {
        "id": "0GmrXIUpGiRZ",
        "colab_type": "code",
        "outputId": "24747105-8c90-4500-98da-d00444f7e078",
        "colab": {
          "base_uri": "https://localhost:8080/",
          "height": 0
        }
      },
      "source": [
        "print(y_pred[0])"
      ],
      "execution_count": 31,
      "outputs": [
        {
          "output_type": "stream",
          "text": [
            "[-3.234866]\n"
          ],
          "name": "stdout"
        }
      ]
    },
    {
      "cell_type": "code",
      "metadata": {
        "id": "uTDRjiasGmlf",
        "colab_type": "code",
        "outputId": "e7ddfa17-d511-4bd2-e5df-347c8f73fab8",
        "colab": {
          "base_uri": "https://localhost:8080/",
          "height": 0
        }
      },
      "source": [
        "print(y[0])"
      ],
      "execution_count": 32,
      "outputs": [
        {
          "output_type": "stream",
          "text": [
            "[17.23909722]\n"
          ],
          "name": "stdout"
        }
      ]
    },
    {
      "cell_type": "code",
      "metadata": {
        "id": "3A11L1PlGn16",
        "colab_type": "code",
        "colab": {}
      },
      "source": [
        ""
      ],
      "execution_count": 0,
      "outputs": []
    },
    {
      "cell_type": "markdown",
      "metadata": {
        "id": "HMxbT1S0GxdP",
        "colab_type": "text"
      },
      "source": [
        "## Define RNN Model"
      ]
    },
    {
      "cell_type": "code",
      "metadata": {
        "id": "Mvpt3wubGzAz",
        "colab_type": "code",
        "outputId": "e5fff939-c44c-4fc1-a019-d1fa933a69fa",
        "colab": {
          "base_uri": "https://localhost:8080/",
          "height": 0
        }
      },
      "source": [
        "rnn_model = models.Sequential([\n",
        "    layers.SimpleRNN(100, input_shape=(x.shape[1], x.shape[2]), return_sequences=True, dropout=0.5, recurrent_dropout=0.5),\n",
        "    layers.SimpleRNN(200, dropout=0.5, recurrent_dropout=0.5),\n",
        "    layers.Dense(1)\n",
        "])\n",
        "print(rnn_model.summary())"
      ],
      "execution_count": 33,
      "outputs": [
        {
          "output_type": "stream",
          "text": [
            "Model: \"sequential_1\"\n",
            "_________________________________________________________________\n",
            "Layer (type)                 Output Shape              Param #   \n",
            "=================================================================\n",
            "simple_rnn (SimpleRNN)       (None, 19, 100)           10200     \n",
            "_________________________________________________________________\n",
            "simple_rnn_1 (SimpleRNN)     (None, 200)               60200     \n",
            "_________________________________________________________________\n",
            "dense_2 (Dense)              (None, 1)                 201       \n",
            "=================================================================\n",
            "Total params: 70,601\n",
            "Trainable params: 70,601\n",
            "Non-trainable params: 0\n",
            "_________________________________________________________________\n",
            "None\n"
          ],
          "name": "stdout"
        }
      ]
    },
    {
      "cell_type": "code",
      "metadata": {
        "id": "rPof8Z1cHvgU",
        "colab_type": "code",
        "outputId": "cc703193-8fdc-4f5a-95d3-8e40dc03aa53",
        "colab": {
          "base_uri": "https://localhost:8080/",
          "height": 0
        }
      },
      "source": [
        "rnn_model.compile(optimizer='adam', loss='mse')\n",
        "rnn_model.fit_generator(train_gen, epochs=5)"
      ],
      "execution_count": 34,
      "outputs": [
        {
          "output_type": "stream",
          "text": [
            "Epoch 1/5\n",
            "38/38 [==============================] - 3s 85ms/step - loss: 109.8673\n",
            "Epoch 2/5\n",
            "38/38 [==============================] - 1s 39ms/step - loss: 83.3086\n",
            "Epoch 3/5\n",
            "38/38 [==============================] - 1s 39ms/step - loss: 64.5330\n",
            "Epoch 4/5\n",
            "38/38 [==============================] - 1s 38ms/step - loss: 64.5437\n",
            "Epoch 5/5\n",
            "38/38 [==============================] - 1s 39ms/step - loss: 62.8350\n"
          ],
          "name": "stdout"
        },
        {
          "output_type": "execute_result",
          "data": {
            "text/plain": [
              "<tensorflow.python.keras.callbacks.History at 0x7f4d0e042400>"
            ]
          },
          "metadata": {
            "tags": []
          },
          "execution_count": 34
        }
      ]
    },
    {
      "cell_type": "code",
      "metadata": {
        "id": "vxFRQ3o7IgwH",
        "colab_type": "code",
        "outputId": "67869288-0be5-4da9-d8b9-08e43e56d289",
        "colab": {
          "base_uri": "https://localhost:8080/",
          "height": 0
        }
      },
      "source": [
        "y_pred = rnn_model.predict(x)\n",
        "print(y_pred[0])"
      ],
      "execution_count": 35,
      "outputs": [
        {
          "output_type": "stream",
          "text": [
            "[9.827625]\n"
          ],
          "name": "stdout"
        }
      ]
    },
    {
      "cell_type": "code",
      "metadata": {
        "id": "N7vpdUViInVY",
        "colab_type": "code",
        "colab": {}
      },
      "source": [
        ""
      ],
      "execution_count": 0,
      "outputs": []
    },
    {
      "cell_type": "markdown",
      "metadata": {
        "id": "MvfSNd4BMrB6",
        "colab_type": "text"
      },
      "source": [
        "## Define LSTM Model"
      ]
    },
    {
      "cell_type": "code",
      "metadata": {
        "id": "wXuB5b38Msxn",
        "colab_type": "code",
        "outputId": "4386535f-1038-4869-ce1e-d511dd50eb80",
        "colab": {
          "base_uri": "https://localhost:8080/",
          "height": 269
        }
      },
      "source": [
        "lstm_model = models.Sequential([\n",
        "    layers.Bidirectional(layers.LSTM(100, return_sequences=True, recurrent_dropout=0.5), input_shape=(x.shape[1], x.shape[2])),\n",
        "    layers.Bidirectional(layers.LSTM(100, recurrent_dropout=0.5)),\n",
        "    layers.Dense(1)\n",
        "])\n",
        "print(lstm_model.summary())"
      ],
      "execution_count": 36,
      "outputs": [
        {
          "output_type": "stream",
          "text": [
            "Model: \"sequential_2\"\n",
            "_________________________________________________________________\n",
            "Layer (type)                 Output Shape              Param #   \n",
            "=================================================================\n",
            "bidirectional (Bidirectional (None, 19, 200)           81600     \n",
            "_________________________________________________________________\n",
            "bidirectional_1 (Bidirection (None, 200)               240800    \n",
            "_________________________________________________________________\n",
            "dense_3 (Dense)              (None, 1)                 201       \n",
            "=================================================================\n",
            "Total params: 322,601\n",
            "Trainable params: 322,601\n",
            "Non-trainable params: 0\n",
            "_________________________________________________________________\n",
            "None\n"
          ],
          "name": "stdout"
        }
      ]
    },
    {
      "cell_type": "code",
      "metadata": {
        "id": "bY_zGM5iNWDd",
        "colab_type": "code",
        "outputId": "5f73fcfc-2db5-4788-84da-f8da9f45ee02",
        "colab": {
          "base_uri": "https://localhost:8080/",
          "height": 202
        }
      },
      "source": [
        "rnn_model.compile(optimizer='adam', loss='mse')\n",
        "rnn_model.fit_generator(train_gen, epochs=5)"
      ],
      "execution_count": 37,
      "outputs": [
        {
          "output_type": "stream",
          "text": [
            "Epoch 1/5\n",
            "38/38 [==============================] - 4s 102ms/step - loss: 65.4465\n",
            "Epoch 2/5\n",
            "38/38 [==============================] - 2s 46ms/step - loss: 61.6109\n",
            "Epoch 3/5\n",
            "38/38 [==============================] - 2s 48ms/step - loss: 62.5278\n",
            "Epoch 4/5\n",
            "38/38 [==============================] - 2s 50ms/step - loss: 62.2801\n",
            "Epoch 5/5\n",
            "38/38 [==============================] - 2s 47ms/step - loss: 62.1016\n"
          ],
          "name": "stdout"
        },
        {
          "output_type": "execute_result",
          "data": {
            "text/plain": [
              "<tensorflow.python.keras.callbacks.History at 0x7f4d02197320>"
            ]
          },
          "metadata": {
            "tags": []
          },
          "execution_count": 37
        }
      ]
    },
    {
      "cell_type": "code",
      "metadata": {
        "id": "Dzr51CA7N-1B",
        "colab_type": "code",
        "colab": {}
      },
      "source": [
        "y_pred = rnn_model.predict(x)\n",
        "print(y_pred[0])"
      ],
      "execution_count": 0,
      "outputs": []
    },
    {
      "cell_type": "code",
      "metadata": {
        "id": "-pPtPu-eOHGy",
        "colab_type": "code",
        "colab": {}
      },
      "source": [
        ""
      ],
      "execution_count": 0,
      "outputs": []
    }
  ]
}