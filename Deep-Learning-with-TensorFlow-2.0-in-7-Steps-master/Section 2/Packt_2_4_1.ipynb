{
  "nbformat": 4,
  "nbformat_minor": 0,
  "metadata": {
    "colab": {
      "name": "Packt_2.4_1.ipynb",
      "version": "0.3.2",
      "provenance": [],
      "collapsed_sections": []
    },
    "kernelspec": {
      "name": "python3",
      "display_name": "Python 3"
    }
  },
  "cells": [
    {
      "cell_type": "markdown",
      "metadata": {
        "id": "iRD9uk5uiKEo",
        "colab_type": "text"
      },
      "source": [
        "# Getting Started with TensorFlow 2.0 in 7 Days\n",
        "## 2.4 Optimizers"
      ]
    },
    {
      "cell_type": "code",
      "metadata": {
        "id": "hILTlkIbeIuC",
        "colab_type": "code",
        "outputId": "ea3b669a-20fb-45ee-8a8f-26564f271525",
        "colab": {
          "base_uri": "https://localhost:8080/",
          "height": 373
        }
      },
      "source": [
        "!pip install tensorflow==2.0.0-beta0"
      ],
      "execution_count": 1,
      "outputs": [
        {
          "output_type": "stream",
          "text": [
            "Requirement already satisfied: tensorflow==2.0.0-beta0 in /usr/local/lib/python3.6/dist-packages (2.0.0b0)\n",
            "Requirement already satisfied: wheel>=0.26 in /usr/local/lib/python3.6/dist-packages (from tensorflow==2.0.0-beta0) (0.33.4)\n",
            "Requirement already satisfied: keras-applications>=1.0.6 in /usr/local/lib/python3.6/dist-packages (from tensorflow==2.0.0-beta0) (1.0.8)\n",
            "Requirement already satisfied: termcolor>=1.1.0 in /usr/local/lib/python3.6/dist-packages (from tensorflow==2.0.0-beta0) (1.1.0)\n",
            "Requirement already satisfied: six>=1.10.0 in /usr/local/lib/python3.6/dist-packages (from tensorflow==2.0.0-beta0) (1.12.0)\n",
            "Requirement already satisfied: grpcio>=1.8.6 in /usr/local/lib/python3.6/dist-packages (from tensorflow==2.0.0-beta0) (1.15.0)\n",
            "Requirement already satisfied: wrapt>=1.11.1 in /usr/local/lib/python3.6/dist-packages (from tensorflow==2.0.0-beta0) (1.11.1)\n",
            "Requirement already satisfied: absl-py>=0.7.0 in /usr/local/lib/python3.6/dist-packages (from tensorflow==2.0.0-beta0) (0.7.1)\n",
            "Requirement already satisfied: numpy<2.0,>=1.14.5 in /usr/local/lib/python3.6/dist-packages (from tensorflow==2.0.0-beta0) (1.16.4)\n",
            "Requirement already satisfied: astor>=0.6.0 in /usr/local/lib/python3.6/dist-packages (from tensorflow==2.0.0-beta0) (0.8.0)\n",
            "Requirement already satisfied: tf-estimator-nightly<1.14.0.dev2019060502,>=1.14.0.dev2019060501 in /usr/local/lib/python3.6/dist-packages (from tensorflow==2.0.0-beta0) (1.14.0.dev2019060501)\n",
            "Requirement already satisfied: google-pasta>=0.1.6 in /usr/local/lib/python3.6/dist-packages (from tensorflow==2.0.0-beta0) (0.1.7)\n",
            "Requirement already satisfied: protobuf>=3.6.1 in /usr/local/lib/python3.6/dist-packages (from tensorflow==2.0.0-beta0) (3.7.1)\n",
            "Requirement already satisfied: gast>=0.2.0 in /usr/local/lib/python3.6/dist-packages (from tensorflow==2.0.0-beta0) (0.2.2)\n",
            "Requirement already satisfied: tb-nightly<1.14.0a20190604,>=1.14.0a20190603 in /usr/local/lib/python3.6/dist-packages (from tensorflow==2.0.0-beta0) (1.14.0a20190603)\n",
            "Requirement already satisfied: keras-preprocessing>=1.0.5 in /usr/local/lib/python3.6/dist-packages (from tensorflow==2.0.0-beta0) (1.1.0)\n",
            "Requirement already satisfied: h5py in /usr/local/lib/python3.6/dist-packages (from keras-applications>=1.0.6->tensorflow==2.0.0-beta0) (2.8.0)\n",
            "Requirement already satisfied: setuptools in /usr/local/lib/python3.6/dist-packages (from protobuf>=3.6.1->tensorflow==2.0.0-beta0) (41.0.1)\n",
            "Requirement already satisfied: markdown>=2.6.8 in /usr/local/lib/python3.6/dist-packages (from tb-nightly<1.14.0a20190604,>=1.14.0a20190603->tensorflow==2.0.0-beta0) (3.1.1)\n",
            "Requirement already satisfied: werkzeug>=0.11.15 in /usr/local/lib/python3.6/dist-packages (from tb-nightly<1.14.0a20190604,>=1.14.0a20190603->tensorflow==2.0.0-beta0) (0.15.4)\n"
          ],
          "name": "stdout"
        }
      ]
    },
    {
      "cell_type": "code",
      "metadata": {
        "id": "GE1Tx9b8eRqY",
        "colab_type": "code",
        "colab": {}
      },
      "source": [
        "import tensorflow as tf\n",
        "from tensorflow import keras\n",
        "import numpy as np\n",
        "import matplotlib.pyplot as plt\n",
        "\n",
        "%matplotlib inline"
      ],
      "execution_count": 0,
      "outputs": []
    },
    {
      "cell_type": "code",
      "metadata": {
        "id": "Pcwc7403egwZ",
        "colab_type": "code",
        "colab": {}
      },
      "source": [
        "fashion_mnist = keras.datasets.fashion_mnist\n",
        "(train_images, train_labels), (test_images, test_labels) = fashion_mnist.load_data()\n",
        "class_names = ['T-shirt/top', 'Trouser', 'Pullover', 'Dress', 'Coat', \n",
        "               'Sandal', 'Shirt', 'Sneaker', 'Bag', 'Ankle boot']\n",
        "train_images = train_images / 255.0\n",
        "test_images = test_images / 255.0"
      ],
      "execution_count": 0,
      "outputs": []
    },
    {
      "cell_type": "markdown",
      "metadata": {
        "id": "y7rmHMrJe3K_",
        "colab_type": "text"
      },
      "source": [
        "## Stochastic Gradient Descent"
      ]
    },
    {
      "cell_type": "code",
      "metadata": {
        "id": "gTafzpttewVA",
        "colab_type": "code",
        "colab": {}
      },
      "source": [
        "sgd = keras.optimizers.SGD(learning_rate=0.1, momentum=0.01, nesterov=False)"
      ],
      "execution_count": 0,
      "outputs": []
    },
    {
      "cell_type": "code",
      "metadata": {
        "id": "5i5ymslefllV",
        "colab_type": "code",
        "outputId": "269e4a56-0f1e-4639-a79e-6abbb7289851",
        "colab": {
          "base_uri": "https://localhost:8080/",
          "height": 306
        }
      },
      "source": [
        "model = keras.Sequential([\n",
        "    keras.layers.Flatten(input_shape=(28, 28)),\n",
        "    keras.layers.Dense(2000, activation='relu'),\n",
        "    keras.layers.Dense(2000, activation='relu'),\n",
        "    keras.layers.Dense(10, activation='softmax')\n",
        "])\n",
        "model.compile(optimizer=sgd, loss='sparse_categorical_crossentropy', metrics=['accuracy'])\n",
        "model.fit(train_images, train_labels, epochs=5, batch_size=32)"
      ],
      "execution_count": 5,
      "outputs": [
        {
          "output_type": "stream",
          "text": [
            "WARNING: Logging before flag parsing goes to stderr.\n",
            "W0611 13:05:30.719161 140657258260352 deprecation.py:323] From /usr/local/lib/python3.6/dist-packages/tensorflow/python/ops/math_grad.py:1250: add_dispatch_support.<locals>.wrapper (from tensorflow.python.ops.array_ops) is deprecated and will be removed in a future version.\n",
            "Instructions for updating:\n",
            "Use tf.where in 2.0, which has the same broadcast rule as np.where\n"
          ],
          "name": "stderr"
        },
        {
          "output_type": "stream",
          "text": [
            "Train on 60000 samples\n",
            "Epoch 1/5\n",
            "60000/60000 [==============================] - 59s 980us/sample - loss: 0.4960 - accuracy: 0.8212\n",
            "Epoch 2/5\n",
            "60000/60000 [==============================] - 59s 984us/sample - loss: 0.3641 - accuracy: 0.8650\n",
            "Epoch 3/5\n",
            "60000/60000 [==============================] - 59s 981us/sample - loss: 0.3246 - accuracy: 0.8793\n",
            "Epoch 4/5\n",
            "60000/60000 [==============================] - 59s 977us/sample - loss: 0.2963 - accuracy: 0.8902\n",
            "Epoch 5/5\n",
            "60000/60000 [==============================] - 59s 980us/sample - loss: 0.2759 - accuracy: 0.8963\n"
          ],
          "name": "stdout"
        },
        {
          "output_type": "execute_result",
          "data": {
            "text/plain": [
              "<tensorflow.python.keras.callbacks.History at 0x7fed129e6a90>"
            ]
          },
          "metadata": {
            "tags": []
          },
          "execution_count": 5
        }
      ]
    },
    {
      "cell_type": "code",
      "metadata": {
        "id": "o5Pn3-bjfv03",
        "colab_type": "code",
        "outputId": "1024a2f5-31ad-469f-b09b-d3564241cd2f",
        "colab": {
          "base_uri": "https://localhost:8080/",
          "height": 218
        }
      },
      "source": [
        "model = keras.Sequential([\n",
        "    keras.layers.Flatten(input_shape=(28, 28)),\n",
        "    keras.layers.Dense(2000, activation='relu'),\n",
        "    keras.layers.Dense(2000, activation='relu'),\n",
        "    keras.layers.Dense(10, activation='softmax')\n",
        "])\n",
        "model.compile(optimizer=sgd, loss='sparse_categorical_crossentropy', metrics=['accuracy'])\n",
        "model.fit(train_images, train_labels, epochs=5, batch_size=128)"
      ],
      "execution_count": 6,
      "outputs": [
        {
          "output_type": "stream",
          "text": [
            "Train on 60000 samples\n",
            "Epoch 1/5\n",
            "60000/60000 [==============================] - 27s 457us/sample - loss: 0.5986 - accuracy: 0.7910\n",
            "Epoch 2/5\n",
            "60000/60000 [==============================] - 27s 450us/sample - loss: 0.4170 - accuracy: 0.8518\n",
            "Epoch 3/5\n",
            "60000/60000 [==============================] - 27s 449us/sample - loss: 0.3701 - accuracy: 0.8661\n",
            "Epoch 4/5\n",
            "60000/60000 [==============================] - 27s 456us/sample - loss: 0.3420 - accuracy: 0.8758\n",
            "Epoch 5/5\n",
            "60000/60000 [==============================] - 27s 449us/sample - loss: 0.3197 - accuracy: 0.8844\n"
          ],
          "name": "stdout"
        },
        {
          "output_type": "execute_result",
          "data": {
            "text/plain": [
              "<tensorflow.python.keras.callbacks.History at 0x7fed12115208>"
            ]
          },
          "metadata": {
            "tags": []
          },
          "execution_count": 6
        }
      ]
    },
    {
      "cell_type": "code",
      "metadata": {
        "id": "KkA94HgYj73G",
        "colab_type": "code",
        "colab": {}
      },
      "source": [
        "sgd = keras.optimizers.SGD(learning_rate=0.05, momentum=0.1, nesterov=True)"
      ],
      "execution_count": 0,
      "outputs": []
    },
    {
      "cell_type": "code",
      "metadata": {
        "id": "yaxDeu5xlC8G",
        "colab_type": "code",
        "outputId": "4dfe01ac-477b-40ac-e16f-67fa9723fceb",
        "colab": {
          "base_uri": "https://localhost:8080/",
          "height": 218
        }
      },
      "source": [
        "model = keras.Sequential([\n",
        "    keras.layers.Flatten(input_shape=(28, 28)),\n",
        "    keras.layers.Dense(2000, activation='relu'),\n",
        "    keras.layers.Dense(2000, activation='relu'),\n",
        "    keras.layers.Dense(10, activation='softmax')\n",
        "])\n",
        "model.compile(optimizer=sgd, loss='sparse_categorical_crossentropy', metrics=['accuracy'])\n",
        "model.fit(train_images, train_labels, epochs=5, batch_size=128)"
      ],
      "execution_count": 8,
      "outputs": [
        {
          "output_type": "stream",
          "text": [
            "Train on 60000 samples\n",
            "Epoch 1/5\n",
            "60000/60000 [==============================] - 27s 452us/sample - loss: 0.6415 - accuracy: 0.7818\n",
            "Epoch 2/5\n",
            "60000/60000 [==============================] - 27s 452us/sample - loss: 0.4515 - accuracy: 0.8426\n",
            "Epoch 3/5\n",
            "60000/60000 [==============================] - 27s 452us/sample - loss: 0.4036 - accuracy: 0.8584\n",
            "Epoch 4/5\n",
            "60000/60000 [==============================] - 27s 450us/sample - loss: 0.3737 - accuracy: 0.8659\n",
            "Epoch 5/5\n",
            "60000/60000 [==============================] - 27s 450us/sample - loss: 0.3520 - accuracy: 0.8760\n"
          ],
          "name": "stdout"
        },
        {
          "output_type": "execute_result",
          "data": {
            "text/plain": [
              "<tensorflow.python.keras.callbacks.History at 0x7fed11e20588>"
            ]
          },
          "metadata": {
            "tags": []
          },
          "execution_count": 8
        }
      ]
    },
    {
      "cell_type": "code",
      "metadata": {
        "id": "UK42cNmnlGBn",
        "colab_type": "code",
        "colab": {}
      },
      "source": [
        "sgd = keras.optimizers.SGD(learning_rate=0.9, momentum=0.3, nesterov=True)"
      ],
      "execution_count": 0,
      "outputs": []
    },
    {
      "cell_type": "code",
      "metadata": {
        "id": "akbiKS5smlQq",
        "colab_type": "code",
        "outputId": "79a84a7e-c13e-4a88-e1ac-77dc44950bf6",
        "colab": {
          "base_uri": "https://localhost:8080/",
          "height": 218
        }
      },
      "source": [
        "model = keras.Sequential([\n",
        "    keras.layers.Flatten(input_shape=(28, 28)),\n",
        "    keras.layers.Dense(2000, activation='relu'),\n",
        "    keras.layers.Dense(2000, activation='relu'),\n",
        "    keras.layers.Dense(10, activation='softmax')\n",
        "])\n",
        "model.compile(optimizer=sgd, loss='sparse_categorical_crossentropy', metrics=['accuracy'])\n",
        "model.fit(train_images, train_labels, epochs=5, batch_size=128)"
      ],
      "execution_count": 10,
      "outputs": [
        {
          "output_type": "stream",
          "text": [
            "Train on 60000 samples\n",
            "Epoch 1/5\n",
            "60000/60000 [==============================] - 27s 453us/sample - loss: 14.4377 - accuracy: 0.1010\n",
            "Epoch 2/5\n",
            "60000/60000 [==============================] - 27s 458us/sample - loss: 14.5063 - accuracy: 0.1000\n",
            "Epoch 3/5\n",
            "60000/60000 [==============================] - 27s 454us/sample - loss: 14.5063 - accuracy: 0.1000\n",
            "Epoch 4/5\n",
            "60000/60000 [==============================] - 27s 450us/sample - loss: 14.5063 - accuracy: 0.1000\n",
            "Epoch 5/5\n",
            "60000/60000 [==============================] - 27s 456us/sample - loss: 14.5063 - accuracy: 0.1000\n"
          ],
          "name": "stdout"
        },
        {
          "output_type": "execute_result",
          "data": {
            "text/plain": [
              "<tensorflow.python.keras.callbacks.History at 0x7fed11b4ab70>"
            ]
          },
          "metadata": {
            "tags": []
          },
          "execution_count": 10
        }
      ]
    },
    {
      "cell_type": "markdown",
      "metadata": {
        "id": "DVuRE8tDp_VY",
        "colab_type": "text"
      },
      "source": [
        "## Adaptive Momentum"
      ]
    },
    {
      "cell_type": "code",
      "metadata": {
        "id": "AwZ_gLsbmnN6",
        "colab_type": "code",
        "colab": {}
      },
      "source": [
        "adam = keras.optimizers.Adam(learning_rate=0.01, beta_1=0.9, beta_2=0.999, epsilon=1e-07, amsgrad=False)"
      ],
      "execution_count": 0,
      "outputs": []
    },
    {
      "cell_type": "code",
      "metadata": {
        "id": "SNymMlKXqo2P",
        "colab_type": "code",
        "outputId": "e54280e5-7a21-4826-d921-78cdb58b1c4d",
        "colab": {
          "base_uri": "https://localhost:8080/",
          "height": 218
        }
      },
      "source": [
        "model = keras.Sequential([\n",
        "    keras.layers.Flatten(input_shape=(28, 28)),\n",
        "    keras.layers.Dense(2000, activation='relu'),\n",
        "    keras.layers.Dense(2000, activation='relu'),\n",
        "    keras.layers.Dense(10, activation='softmax')\n",
        "])\n",
        "model.compile(optimizer=adam, loss='sparse_categorical_crossentropy', metrics=['accuracy'])\n",
        "model.fit(train_images, train_labels, epochs=5, batch_size=128)"
      ],
      "execution_count": 12,
      "outputs": [
        {
          "output_type": "stream",
          "text": [
            "Train on 60000 samples\n",
            "Epoch 1/5\n",
            "60000/60000 [==============================] - 28s 469us/sample - loss: 14.4766 - accuracy: 0.1002\n",
            "Epoch 2/5\n",
            "60000/60000 [==============================] - 28s 465us/sample - loss: 14.5063 - accuracy: 0.1000\n",
            "Epoch 3/5\n",
            "60000/60000 [==============================] - 28s 466us/sample - loss: 14.5063 - accuracy: 0.1000\n",
            "Epoch 4/5\n",
            "60000/60000 [==============================] - 28s 466us/sample - loss: 14.5063 - accuracy: 0.1000\n",
            "Epoch 5/5\n",
            "60000/60000 [==============================] - 28s 465us/sample - loss: 14.5063 - accuracy: 0.1000\n"
          ],
          "name": "stdout"
        },
        {
          "output_type": "execute_result",
          "data": {
            "text/plain": [
              "<tensorflow.python.keras.callbacks.History at 0x7fed11809ba8>"
            ]
          },
          "metadata": {
            "tags": []
          },
          "execution_count": 12
        }
      ]
    },
    {
      "cell_type": "markdown",
      "metadata": {
        "id": "8ObhinrVslqE",
        "colab_type": "text"
      },
      "source": [
        "## Adagrad"
      ]
    },
    {
      "cell_type": "code",
      "metadata": {
        "id": "zWAxRk76qs6v",
        "colab_type": "code",
        "colab": {}
      },
      "source": [
        "adagrad = keras.optimizers.Adagrad(learning_rate=0.1, initial_accumulator_value=0.1, epsilon=1e-7)"
      ],
      "execution_count": 0,
      "outputs": []
    },
    {
      "cell_type": "code",
      "metadata": {
        "id": "FrQh0oCytTl9",
        "colab_type": "code",
        "outputId": "f23299ce-5bd2-4b96-80f5-7cc20265a7a6",
        "colab": {
          "base_uri": "https://localhost:8080/",
          "height": 218
        }
      },
      "source": [
        "model = keras.Sequential([\n",
        "    keras.layers.Flatten(input_shape=(28, 28)),\n",
        "    keras.layers.Dense(2000, activation='relu'),\n",
        "    keras.layers.Dense(2000, activation='relu'),\n",
        "    keras.layers.Dense(10, activation='softmax')\n",
        "])\n",
        "model.compile(optimizer=adagrad, loss='sparse_categorical_crossentropy', metrics=['accuracy'])\n",
        "model.fit(train_images, train_labels, epochs=5, batch_size=128)"
      ],
      "execution_count": 14,
      "outputs": [
        {
          "output_type": "stream",
          "text": [
            "Train on 60000 samples\n",
            "Epoch 1/5\n",
            "60000/60000 [==============================] - 31s 520us/sample - loss: 0.5837 - accuracy: 0.7885\n",
            "Epoch 2/5\n",
            "60000/60000 [==============================] - 31s 520us/sample - loss: 0.3919 - accuracy: 0.8548\n",
            "Epoch 3/5\n",
            "60000/60000 [==============================] - 32s 529us/sample - loss: 0.3483 - accuracy: 0.8715\n",
            "Epoch 4/5\n",
            "60000/60000 [==============================] - 31s 522us/sample - loss: 0.3136 - accuracy: 0.8828\n",
            "Epoch 5/5\n",
            "60000/60000 [==============================] - 32s 526us/sample - loss: 0.2905 - accuracy: 0.8925\n"
          ],
          "name": "stdout"
        },
        {
          "output_type": "execute_result",
          "data": {
            "text/plain": [
              "<tensorflow.python.keras.callbacks.History at 0x7fed1136eda0>"
            ]
          },
          "metadata": {
            "tags": []
          },
          "execution_count": 14
        }
      ]
    },
    {
      "cell_type": "code",
      "metadata": {
        "id": "bnq-dizFtep7",
        "colab_type": "code",
        "outputId": "15fd209a-740e-43c2-ea2b-1fbf0c65d7b8",
        "colab": {
          "base_uri": "https://localhost:8080/",
          "height": 302
        }
      },
      "source": [
        "print(model.summary())"
      ],
      "execution_count": 15,
      "outputs": [
        {
          "output_type": "stream",
          "text": [
            "Model: \"sequential_5\"\n",
            "_________________________________________________________________\n",
            "Layer (type)                 Output Shape              Param #   \n",
            "=================================================================\n",
            "flatten_5 (Flatten)          (None, 784)               0         \n",
            "_________________________________________________________________\n",
            "dense_15 (Dense)             (None, 2000)              1570000   \n",
            "_________________________________________________________________\n",
            "dense_16 (Dense)             (None, 2000)              4002000   \n",
            "_________________________________________________________________\n",
            "dense_17 (Dense)             (None, 10)                20010     \n",
            "=================================================================\n",
            "Total params: 5,592,010\n",
            "Trainable params: 5,592,010\n",
            "Non-trainable params: 0\n",
            "_________________________________________________________________\n",
            "None\n"
          ],
          "name": "stdout"
        }
      ]
    },
    {
      "cell_type": "code",
      "metadata": {
        "id": "yLuWREj-0Z3_",
        "colab_type": "code",
        "colab": {}
      },
      "source": [
        ""
      ],
      "execution_count": 0,
      "outputs": []
    }
  ]
}