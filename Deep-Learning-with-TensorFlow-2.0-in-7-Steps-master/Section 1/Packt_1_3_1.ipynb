{
 "cells": [
  {
   "cell_type": "markdown",
   "metadata": {
    "colab_type": "text",
    "id": "-IZv05z7nnlY"
   },
   "source": [
    "# Getting Started with TensorFlow 2.0 in 7 Days\n",
    "## 1.3 Getting Started"
   ]
  },
  {
   "cell_type": "markdown",
   "metadata": {
    "colab_type": "text",
    "id": "6s7UKDFroyHT"
   },
   "source": [
    "### Install TensorFlow"
   ]
  },
  {
   "cell_type": "code",
   "execution_count": 1,
   "metadata": {
    "colab": {
     "base_uri": "https://localhost:8080/",
     "height": 591
    },
    "colab_type": "code",
    "id": "aF3NnwXZnhQl",
    "outputId": "b254acd9-7791-4176-a3df-63a4bfebc7c0"
   },
   "outputs": [
    {
     "name": "stdout",
     "output_type": "stream",
     "text": [
      "Collecting tensorflow==2.0.0-beta0\n",
      "\u001b[?25l  Downloading https://files.pythonhosted.org/packages/cf/a2/b754273c8d9650011712cd5542d179feccfb69ceb492d23f61ab190bada4/tensorflow-2.0.0b0-cp37-cp37m-macosx_10_11_x86_64.whl (87.9MB)\n",
      "\u001b[K    100% |████████████████████████████████| 87.9MB 177kB/s eta 0:00:01\n",
      "\u001b[?25hRequirement already satisfied: astor>=0.6.0 in /Users/assis/miniconda3/lib/python3.7/site-packages (from tensorflow==2.0.0-beta0) (0.7.1)\n",
      "Collecting tb-nightly<1.14.0a20190604,>=1.14.0a20190603 (from tensorflow==2.0.0-beta0)\n",
      "\u001b[?25l  Downloading https://files.pythonhosted.org/packages/a4/96/571b875cd81dda9d5dfa1422a4f9d749e67c0a8d4f4f0b33a4e5f5f35e27/tb_nightly-1.14.0a20190603-py3-none-any.whl (3.1MB)\n",
      "\u001b[K    100% |████████████████████████████████| 3.1MB 6.6MB/s eta 0:00:01\n",
      "\u001b[?25hRequirement already satisfied: keras-preprocessing>=1.0.5 in /Users/assis/miniconda3/lib/python3.7/site-packages (from tensorflow==2.0.0-beta0) (1.0.9)\n",
      "Requirement already satisfied: wheel>=0.26 in /Users/assis/miniconda3/lib/python3.7/site-packages (from tensorflow==2.0.0-beta0) (0.33.1)\n",
      "Requirement already satisfied: google-pasta>=0.1.6 in /Users/assis/miniconda3/lib/python3.7/site-packages (from tensorflow==2.0.0-beta0) (0.1.7)\n",
      "Requirement already satisfied: grpcio>=1.8.6 in /Users/assis/miniconda3/lib/python3.7/site-packages (from tensorflow==2.0.0-beta0) (1.16.1)\n",
      "Requirement already satisfied: numpy<2.0,>=1.14.5 in /Users/assis/miniconda3/lib/python3.7/site-packages (from tensorflow==2.0.0-beta0) (1.16.4)\n",
      "Requirement already satisfied: six>=1.10.0 in /Users/assis/miniconda3/lib/python3.7/site-packages (from tensorflow==2.0.0-beta0) (1.12.0)\n",
      "Collecting tf-estimator-nightly<1.14.0.dev2019060502,>=1.14.0.dev2019060501 (from tensorflow==2.0.0-beta0)\n",
      "\u001b[?25l  Downloading https://files.pythonhosted.org/packages/32/dd/99c47dd007dcf10d63fd895611b063732646f23059c618a373e85019eb0e/tf_estimator_nightly-1.14.0.dev2019060501-py2.py3-none-any.whl (496kB)\n",
      "\u001b[K    100% |████████████████████████████████| 501kB 9.5MB/s eta 0:00:01\n",
      "\u001b[?25hRequirement already satisfied: termcolor>=1.1.0 in /Users/assis/miniconda3/lib/python3.7/site-packages (from tensorflow==2.0.0-beta0) (1.1.0)\n",
      "Requirement already satisfied: gast>=0.2.0 in /Users/assis/miniconda3/lib/python3.7/site-packages (from tensorflow==2.0.0-beta0) (0.2.2)\n",
      "Requirement already satisfied: wrapt>=1.11.1 in /Users/assis/miniconda3/lib/python3.7/site-packages (from tensorflow==2.0.0-beta0) (1.11.2)\n",
      "Requirement already satisfied: protobuf>=3.6.1 in /Users/assis/miniconda3/lib/python3.7/site-packages (from tensorflow==2.0.0-beta0) (3.7.1)\n",
      "Requirement already satisfied: keras-applications>=1.0.6 in /Users/assis/miniconda3/lib/python3.7/site-packages (from tensorflow==2.0.0-beta0) (1.0.8)\n",
      "Requirement already satisfied: absl-py>=0.7.0 in /Users/assis/miniconda3/lib/python3.7/site-packages (from tensorflow==2.0.0-beta0) (0.7.1)\n",
      "Requirement already satisfied: markdown>=2.6.8 in /Users/assis/miniconda3/lib/python3.7/site-packages (from tb-nightly<1.14.0a20190604,>=1.14.0a20190603->tensorflow==2.0.0-beta0) (3.1)\n",
      "Requirement already satisfied: werkzeug>=0.11.15 in /Users/assis/miniconda3/lib/python3.7/site-packages (from tb-nightly<1.14.0a20190604,>=1.14.0a20190603->tensorflow==2.0.0-beta0) (0.15.2)\n",
      "Requirement already satisfied: setuptools>=41.0.0 in /Users/assis/miniconda3/lib/python3.7/site-packages (from tb-nightly<1.14.0a20190604,>=1.14.0a20190603->tensorflow==2.0.0-beta0) (41.0.0)\n",
      "Requirement already satisfied: h5py in /Users/assis/miniconda3/lib/python3.7/site-packages (from keras-applications>=1.0.6->tensorflow==2.0.0-beta0) (2.9.0)\n",
      "\u001b[31mtf-nightly-2-0-preview 2.0.0.dev20191002 has requirement tb-nightly<2.2.0a0,>=2.1.0a0, but you'll have tb-nightly 1.14.0a20190603 which is incompatible.\u001b[0m\n",
      "Installing collected packages: tb-nightly, tf-estimator-nightly, tensorflow\n",
      "  Found existing installation: tb-nightly 2.1.0a20191005\n",
      "    Uninstalling tb-nightly-2.1.0a20191005:\n",
      "      Successfully uninstalled tb-nightly-2.1.0a20191005\n",
      "  Found existing installation: tensorflow 1.13.1\n",
      "    Uninstalling tensorflow-1.13.1:\n",
      "      Successfully uninstalled tensorflow-1.13.1\n",
      "Successfully installed tb-nightly-1.14.0a20190603 tensorflow-2.0.0b0 tf-estimator-nightly-1.14.0.dev2019060501\n"
     ]
    }
   ],
   "source": [
    "# install tensorflow\n",
    "!pip install tensorflow==2.0.0-beta0"
   ]
  },
  {
   "cell_type": "markdown",
   "metadata": {
    "colab_type": "text",
    "id": "QagzUi2Go1qy"
   },
   "source": [
    "### Import TensorFlow"
   ]
  },
  {
   "cell_type": "code",
   "execution_count": 2,
   "metadata": {
    "colab": {},
    "colab_type": "code",
    "id": "ysoJEX7yorKg"
   },
   "outputs": [],
   "source": [
    "import tensorflow as tf"
   ]
  },
  {
   "cell_type": "code",
   "execution_count": 3,
   "metadata": {
    "colab": {
     "base_uri": "https://localhost:8080/",
     "height": 34
    },
    "colab_type": "code",
    "id": "Ad_HSZLNbqnL",
    "outputId": "49ed17c8-4fb9-4133-8730-41b0c91d5ded"
   },
   "outputs": [
    {
     "name": "stdout",
     "output_type": "stream",
     "text": [
      "2.0.0-beta0\n"
     ]
    }
   ],
   "source": [
    "print(tf.__version__)"
   ]
  },
  {
   "cell_type": "markdown",
   "metadata": {
    "colab_type": "text",
    "id": "hzMkyK_KpUOW"
   },
   "source": [
    "Numeric Python lets us carry out numerical operations in Python, such as declaring matrices. We will import numpy and declare a matrix.\n",
    "\n",
    "### Import Numpy"
   ]
  },
  {
   "cell_type": "code",
   "execution_count": 4,
   "metadata": {
    "colab": {
     "base_uri": "https://localhost:8080/",
     "height": 118
    },
    "colab_type": "code",
    "id": "si9jtHafo7YS",
    "outputId": "760f5f02-c411-4a65-da1e-b276d92dfc57"
   },
   "outputs": [
    {
     "name": "stdout",
     "output_type": "stream",
     "text": [
      "[[1. 1. 1. 1. 1.]\n",
      " [1. 1. 1. 1. 1.]\n",
      " [1. 1. 1. 1. 1.]\n",
      " [1. 1. 1. 1. 1.]\n",
      " [1. 1. 1. 1. 1.]]\n",
      "(5, 5)\n"
     ]
    }
   ],
   "source": [
    "import numpy as np\n",
    "\n",
    "numpy_array = np.ones([5, 5]) #declare 5 rows and 5 columns of 1s\n",
    "print(numpy_array)\n",
    "print(numpy_array.shape)"
   ]
  },
  {
   "cell_type": "markdown",
   "metadata": {
    "colab_type": "text",
    "id": "87Gv7TIdqcaJ"
   },
   "source": [
    "We can create a numpy array from a python list. We will create a row vector"
   ]
  },
  {
   "cell_type": "code",
   "execution_count": 5,
   "metadata": {
    "colab": {
     "base_uri": "https://localhost:8080/",
     "height": 50
    },
    "colab_type": "code",
    "id": "vpqt7ojRpv1W",
    "outputId": "6587379b-90cd-4566-c627-fabc39655879"
   },
   "outputs": [
    {
     "name": "stdout",
     "output_type": "stream",
     "text": [
      "[[3. 5. 3. 2. 2.]]\n",
      "(1, 5)\n"
     ]
    }
   ],
   "source": [
    "numpy_vector = np.asarray([[3.,5.,3.,2.,2.]])\n",
    "print(numpy_vector)\n",
    "print(numpy_vector.shape)"
   ]
  },
  {
   "cell_type": "markdown",
   "metadata": {
    "colab_type": "text",
    "id": "nnNIvpHhrJOS"
   },
   "source": [
    "### Matrix Multiplication\n",
    "We can use both numpy arrays in a TensorFlow operation that will produce a tensor"
   ]
  },
  {
   "cell_type": "code",
   "execution_count": 6,
   "metadata": {
    "colab": {
     "base_uri": "https://localhost:8080/",
     "height": 118
    },
    "colab_type": "code",
    "id": "C1ErzgYxrFf5",
    "outputId": "cfc24413-4fe6-47e9-f5fa-8286abb5e1cc"
   },
   "outputs": [
    {
     "name": "stdout",
     "output_type": "stream",
     "text": [
      "tf.Tensor(\n",
      "[[15.]\n",
      " [15.]\n",
      " [15.]\n",
      " [15.]\n",
      " [15.]], shape=(5, 1), dtype=float64)\n"
     ]
    }
   ],
   "source": [
    "tensor = tf.matmul(numpy_array, numpy_vector.T)\n",
    "print(tensor)"
   ]
  },
  {
   "cell_type": "markdown",
   "metadata": {
    "colab_type": "text",
    "id": "x3inQT1JsIXO"
   },
   "source": [
    "There are a few important details to note in the operation above:\n",
    "\n",
    "*   The 5x5 matrix was generated as an array of floating point numbers, so the matrix that multiples it must use floating point numbers to avoid any errors\n",
    "*   When creating numpy_vector, we put a . after a number to make it a float\n",
    "*   When multiplying matrices, the number of rows in the first matrix must equal the number of columns in the second matrix.\n",
    "*   We apply a transpose to our second matrix to get it into the desired shape for our multiplication. Without it, we would get an error\n",
    "\n"
   ]
  },
  {
   "cell_type": "markdown",
   "metadata": {
    "colab_type": "text",
    "id": "ai5_dAdJtb1z"
   },
   "source": [
    "### Addition\n",
    "Addition requires both tensors/matrices to be of the same shape. Notice how we add a tensor and a numpy array without any explicit conversions."
   ]
  },
  {
   "cell_type": "code",
   "execution_count": 7,
   "metadata": {
    "colab": {
     "base_uri": "https://localhost:8080/",
     "height": 118
    },
    "colab_type": "code",
    "id": "f_n5DHOTrUsy",
    "outputId": "611b3bdc-57f9-4dd8-874f-3f0334869212"
   },
   "outputs": [
    {
     "name": "stdout",
     "output_type": "stream",
     "text": [
      "tf.Tensor(\n",
      "[[18.]\n",
      " [20.]\n",
      " [18.]\n",
      " [17.]\n",
      " [17.]], shape=(5, 1), dtype=float64)\n"
     ]
    }
   ],
   "source": [
    "tensor_2 = tf.add(tensor, numpy_vector.T)\n",
    "print(tensor_2)"
   ]
  },
  {
   "cell_type": "markdown",
   "metadata": {
    "colab_type": "text",
    "id": "tXRe97MAuyZX"
   },
   "source": [
    "### Broadcasting\n",
    "Broadcasting lets us use a single value in place of a vector. This will be converted into a vector of the appropriate size on the fly."
   ]
  },
  {
   "cell_type": "code",
   "execution_count": 8,
   "metadata": {
    "colab": {
     "base_uri": "https://localhost:8080/",
     "height": 118
    },
    "colab_type": "code",
    "id": "6kz9uPbntndJ",
    "outputId": "236c7605-3943-4b8c-d702-965c1b0780ab"
   },
   "outputs": [
    {
     "name": "stdout",
     "output_type": "stream",
     "text": [
      "tf.Tensor(\n",
      "[[54.]\n",
      " [60.]\n",
      " [54.]\n",
      " [51.]\n",
      " [51.]], shape=(5, 1), dtype=float64)\n"
     ]
    }
   ],
   "source": [
    "tensor_3 = tf.multiply(tensor_2, 3)\n",
    "print(tensor_3)"
   ]
  },
  {
   "cell_type": "markdown",
   "metadata": {
    "colab_type": "text",
    "id": "Zsapw8V-vKKa"
   },
   "source": [
    "### Tensors to Numpy Arrays\n",
    "When you are done working with tensors, you can convert them to numpy arrays either explicitly or implicitly"
   ]
  },
  {
   "cell_type": "code",
   "execution_count": 9,
   "metadata": {
    "colab": {
     "base_uri": "https://localhost:8080/",
     "height": 101
    },
    "colab_type": "code",
    "id": "r6OBZZdHvEc8",
    "outputId": "74824dc3-03a8-4b5a-ecff-b3b279743f8d"
   },
   "outputs": [
    {
     "name": "stdout",
     "output_type": "stream",
     "text": [
      "[[54.]\n",
      " [60.]\n",
      " [54.]\n",
      " [51.]\n",
      " [51.]]\n"
     ]
    }
   ],
   "source": [
    "print(tensor_3.numpy())"
   ]
  },
  {
   "cell_type": "code",
   "execution_count": 10,
   "metadata": {
    "colab": {
     "base_uri": "https://localhost:8080/",
     "height": 101
    },
    "colab_type": "code",
    "id": "NmObeQNTvdQS",
    "outputId": "55fb1aa7-b150-410b-8e4a-4cca6382c82c"
   },
   "outputs": [
    {
     "name": "stdout",
     "output_type": "stream",
     "text": [
      "[[63.]\n",
      " [69.]\n",
      " [63.]\n",
      " [60.]\n",
      " [60.]]\n"
     ]
    }
   ],
   "source": [
    "print(np.add(tensor_3, 9))"
   ]
  },
  {
   "cell_type": "code",
   "execution_count": 0,
   "metadata": {
    "colab": {},
    "colab_type": "code",
    "id": "b_qT-uG5viBM"
   },
   "outputs": [],
   "source": []
  }
 ],
 "metadata": {
  "colab": {
   "collapsed_sections": [],
   "name": "Packt_1.3_1.ipynb",
   "provenance": [],
   "version": "0.3.2"
  },
  "kernelspec": {
   "display_name": "Python 3",
   "language": "python",
   "name": "python3"
  },
  "language_info": {
   "codemirror_mode": {
    "name": "ipython",
    "version": 3
   },
   "file_extension": ".py",
   "mimetype": "text/x-python",
   "name": "python",
   "nbconvert_exporter": "python",
   "pygments_lexer": "ipython3",
   "version": "3.7.3"
  }
 },
 "nbformat": 4,
 "nbformat_minor": 1
}
