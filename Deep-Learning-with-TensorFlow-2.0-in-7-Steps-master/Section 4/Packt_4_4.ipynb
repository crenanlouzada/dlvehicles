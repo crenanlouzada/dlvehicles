{
  "nbformat": 4,
  "nbformat_minor": 0,
  "metadata": {
    "colab": {
      "name": "Packt_4_4.ipynb",
      "version": "0.3.2",
      "provenance": [],
      "collapsed_sections": []
    },
    "kernelspec": {
      "name": "python3",
      "display_name": "Python 3"
    },
    "accelerator": "GPU"
  },
  "cells": [
    {
      "cell_type": "markdown",
      "metadata": {
        "id": "xu9dcXy46TO5",
        "colab_type": "text"
      },
      "source": [
        "# Classify Movie Reviews using 1D-CNN\n",
        "## This notebook requires a GPU"
      ]
    },
    {
      "cell_type": "code",
      "metadata": {
        "id": "eg_nMVdU6I-8",
        "colab_type": "code",
        "outputId": "2c48efca-e74b-4653-a928-30a4d97480c3",
        "colab": {
          "base_uri": "https://localhost:8080/",
          "height": 373
        }
      },
      "source": [
        "!pip install tensorflow-gpu==2.0.0.beta0"
      ],
      "execution_count": 1,
      "outputs": [
        {
          "output_type": "stream",
          "text": [
            "Requirement already satisfied: tensorflow-gpu==2.0.0.beta0 in /usr/local/lib/python3.6/dist-packages (2.0.0b0)\n",
            "Requirement already satisfied: gast>=0.2.0 in /usr/local/lib/python3.6/dist-packages (from tensorflow-gpu==2.0.0.beta0) (0.2.2)\n",
            "Requirement already satisfied: astor>=0.6.0 in /usr/local/lib/python3.6/dist-packages (from tensorflow-gpu==2.0.0.beta0) (0.8.0)\n",
            "Requirement already satisfied: tf-estimator-nightly<1.14.0.dev2019060502,>=1.14.0.dev2019060501 in /usr/local/lib/python3.6/dist-packages (from tensorflow-gpu==2.0.0.beta0) (1.14.0.dev2019060501)\n",
            "Requirement already satisfied: termcolor>=1.1.0 in /usr/local/lib/python3.6/dist-packages (from tensorflow-gpu==2.0.0.beta0) (1.1.0)\n",
            "Requirement already satisfied: absl-py>=0.7.0 in /usr/local/lib/python3.6/dist-packages (from tensorflow-gpu==2.0.0.beta0) (0.7.1)\n",
            "Requirement already satisfied: wheel>=0.26 in /usr/local/lib/python3.6/dist-packages (from tensorflow-gpu==2.0.0.beta0) (0.33.4)\n",
            "Requirement already satisfied: six>=1.10.0 in /usr/local/lib/python3.6/dist-packages (from tensorflow-gpu==2.0.0.beta0) (1.12.0)\n",
            "Requirement already satisfied: numpy<2.0,>=1.14.5 in /usr/local/lib/python3.6/dist-packages (from tensorflow-gpu==2.0.0.beta0) (1.16.2)\n",
            "Requirement already satisfied: wrapt>=1.11.1 in /usr/local/lib/python3.6/dist-packages (from tensorflow-gpu==2.0.0.beta0) (1.11.1)\n",
            "Requirement already satisfied: keras-applications>=1.0.6 in /usr/local/lib/python3.6/dist-packages (from tensorflow-gpu==2.0.0.beta0) (1.0.8)\n",
            "Requirement already satisfied: tb-nightly<1.14.0a20190604,>=1.14.0a20190603 in /usr/local/lib/python3.6/dist-packages (from tensorflow-gpu==2.0.0.beta0) (1.14.0a20190603)\n",
            "Requirement already satisfied: google-pasta>=0.1.6 in /usr/local/lib/python3.6/dist-packages (from tensorflow-gpu==2.0.0.beta0) (0.1.7)\n",
            "Requirement already satisfied: keras-preprocessing>=1.0.5 in /usr/local/lib/python3.6/dist-packages (from tensorflow-gpu==2.0.0.beta0) (1.1.0)\n",
            "Requirement already satisfied: grpcio>=1.8.6 in /usr/local/lib/python3.6/dist-packages (from tensorflow-gpu==2.0.0.beta0) (1.15.0)\n",
            "Requirement already satisfied: protobuf>=3.6.1 in /usr/local/lib/python3.6/dist-packages (from tensorflow-gpu==2.0.0.beta0) (3.7.1)\n",
            "Requirement already satisfied: h5py in /usr/local/lib/python3.6/dist-packages (from keras-applications>=1.0.6->tensorflow-gpu==2.0.0.beta0) (2.8.0)\n",
            "Requirement already satisfied: setuptools>=41.0.0 in /usr/local/lib/python3.6/dist-packages (from tb-nightly<1.14.0a20190604,>=1.14.0a20190603->tensorflow-gpu==2.0.0.beta0) (41.0.1)\n",
            "Requirement already satisfied: werkzeug>=0.11.15 in /usr/local/lib/python3.6/dist-packages (from tb-nightly<1.14.0a20190604,>=1.14.0a20190603->tensorflow-gpu==2.0.0.beta0) (0.15.4)\n",
            "Requirement already satisfied: markdown>=2.6.8 in /usr/local/lib/python3.6/dist-packages (from tb-nightly<1.14.0a20190604,>=1.14.0a20190603->tensorflow-gpu==2.0.0.beta0) (3.1.1)\n"
          ],
          "name": "stdout"
        }
      ]
    },
    {
      "cell_type": "code",
      "metadata": {
        "id": "6AzazvKn6c4X",
        "colab_type": "code",
        "outputId": "6277d7cf-0699-4519-b19c-bf2326377a82",
        "colab": {
          "base_uri": "https://localhost:8080/",
          "height": 34
        }
      },
      "source": [
        "#this version of numpy is required to avoid an error related to numpy defaulting to not allowing pickle files\n",
        "!pip install numpy==1.16.2"
      ],
      "execution_count": 2,
      "outputs": [
        {
          "output_type": "stream",
          "text": [
            "Requirement already satisfied: numpy==1.16.2 in /usr/local/lib/python3.6/dist-packages (1.16.2)\n"
          ],
          "name": "stdout"
        }
      ]
    },
    {
      "cell_type": "code",
      "metadata": {
        "id": "cwegFFju7weP",
        "colab_type": "code",
        "colab": {}
      },
      "source": [
        "import tensorflow as tf\n",
        "from tensorflow.keras import datasets, preprocessing, models, layers\n",
        "import numpy as np"
      ],
      "execution_count": 0,
      "outputs": []
    },
    {
      "cell_type": "code",
      "metadata": {
        "id": "YYEZ5XiF7-Po",
        "colab_type": "code",
        "outputId": "d6f2c905-f259-4a52-ef97-5938ea2e87aa",
        "colab": {
          "base_uri": "https://localhost:8080/",
          "height": 50
        }
      },
      "source": [
        "imdb = datasets.imdb\n",
        "\n",
        "#Let's work with a dictionary of 20,000 words\n",
        "NUM_WORDS = 20000\n",
        "\n",
        "#load IMDB dataset as lists of integers\n",
        "(train_data, train_labels), (test_data, test_labels) = imdb.load_data(num_words=NUM_WORDS, )"
      ],
      "execution_count": 4,
      "outputs": [
        {
          "output_type": "stream",
          "text": [
            "Downloading data from https://storage.googleapis.com/tensorflow/tf-keras-datasets/imdb.npz\n",
            "17465344/17464789 [==============================] - 0s 0us/step\n"
          ],
          "name": "stdout"
        }
      ]
    },
    {
      "cell_type": "code",
      "metadata": {
        "id": "HBVB4LjH8Bbv",
        "colab_type": "code",
        "colab": {}
      },
      "source": [
        "LEN_WORDS = 300\n",
        "train_data = preprocessing.sequence.pad_sequences(train_data, maxlen=LEN_WORDS)\n",
        "test_data = preprocessing.sequence.pad_sequences(test_data, maxlen=LEN_WORDS)"
      ],
      "execution_count": 0,
      "outputs": []
    },
    {
      "cell_type": "code",
      "metadata": {
        "id": "TKGO9qqE-7jX",
        "colab_type": "code",
        "outputId": "88dac9c4-4d75-4239-c30a-1fb7ebac9c88",
        "colab": {
          "base_uri": "https://localhost:8080/",
          "height": 302
        }
      },
      "source": [
        "DIMENSION = 16\n",
        "\n",
        "e_model = models.Sequential([\n",
        "    layers.Embedding(NUM_WORDS, DIMENSION, input_length=LEN_WORDS),\n",
        "    layers.Conv1D(filters=10, kernel_size=5, strides=3, padding='same', activation='relu'),\n",
        "    layers.GlobalAveragePooling1D(),\n",
        "    layers.Dense(1, activation='sigmoid')\n",
        "])\n",
        "print(e_model.summary())"
      ],
      "execution_count": 6,
      "outputs": [
        {
          "output_type": "stream",
          "text": [
            "Model: \"sequential\"\n",
            "_________________________________________________________________\n",
            "Layer (type)                 Output Shape              Param #   \n",
            "=================================================================\n",
            "embedding (Embedding)        (None, 300, 16)           320000    \n",
            "_________________________________________________________________\n",
            "conv1d (Conv1D)              (None, 100, 10)           810       \n",
            "_________________________________________________________________\n",
            "global_average_pooling1d (Gl (None, 10)                0         \n",
            "_________________________________________________________________\n",
            "dense (Dense)                (None, 1)                 11        \n",
            "=================================================================\n",
            "Total params: 320,821\n",
            "Trainable params: 320,821\n",
            "Non-trainable params: 0\n",
            "_________________________________________________________________\n",
            "None\n"
          ],
          "name": "stdout"
        }
      ]
    },
    {
      "cell_type": "code",
      "metadata": {
        "id": "ByRCaruACgYd",
        "colab_type": "code",
        "outputId": "a3dbc067-084c-4a06-a83f-fc27080e92c8",
        "colab": {
          "base_uri": "https://localhost:8080/",
          "height": 474
        }
      },
      "source": [
        "e_model.compile(optimizer='adam', loss='binary_crossentropy', metrics=['accuracy'])\n",
        "e_model.fit(train_data, train_labels, epochs=10)"
      ],
      "execution_count": 7,
      "outputs": [
        {
          "output_type": "stream",
          "text": [
            "WARNING: Logging before flag parsing goes to stderr.\n",
            "W0613 03:48:04.746518 139715021457280 deprecation.py:323] From /usr/local/lib/python3.6/dist-packages/tensorflow/python/ops/math_grad.py:1250: add_dispatch_support.<locals>.wrapper (from tensorflow.python.ops.array_ops) is deprecated and will be removed in a future version.\n",
            "Instructions for updating:\n",
            "Use tf.where in 2.0, which has the same broadcast rule as np.where\n"
          ],
          "name": "stderr"
        },
        {
          "output_type": "stream",
          "text": [
            "Train on 25000 samples\n",
            "Epoch 1/10\n",
            "25000/25000 [==============================] - 10s 389us/sample - loss: 0.4974 - accuracy: 0.7742\n",
            "Epoch 2/10\n",
            "25000/25000 [==============================] - 6s 242us/sample - loss: 0.2462 - accuracy: 0.9107\n",
            "Epoch 3/10\n",
            "25000/25000 [==============================] - 6s 236us/sample - loss: 0.1781 - accuracy: 0.9386\n",
            "Epoch 4/10\n",
            "25000/25000 [==============================] - 6s 239us/sample - loss: 0.1358 - accuracy: 0.9558\n",
            "Epoch 5/10\n",
            "25000/25000 [==============================] - 6s 238us/sample - loss: 0.1053 - accuracy: 0.9678\n",
            "Epoch 6/10\n",
            "25000/25000 [==============================] - 6s 237us/sample - loss: 0.0812 - accuracy: 0.9775\n",
            "Epoch 7/10\n",
            "25000/25000 [==============================] - 6s 240us/sample - loss: 0.0619 - accuracy: 0.9842\n",
            "Epoch 8/10\n",
            "25000/25000 [==============================] - 6s 241us/sample - loss: 0.0466 - accuracy: 0.9893\n",
            "Epoch 9/10\n",
            "25000/25000 [==============================] - 6s 241us/sample - loss: 0.0348 - accuracy: 0.9928\n",
            "Epoch 10/10\n",
            "25000/25000 [==============================] - 6s 238us/sample - loss: 0.0248 - accuracy: 0.9957\n"
          ],
          "name": "stdout"
        },
        {
          "output_type": "execute_result",
          "data": {
            "text/plain": [
              "<tensorflow.python.keras.callbacks.History at 0x7f11d31fcd30>"
            ]
          },
          "metadata": {
            "tags": []
          },
          "execution_count": 7
        }
      ]
    },
    {
      "cell_type": "code",
      "metadata": {
        "id": "OtW1fXUaClVB",
        "colab_type": "code",
        "colab": {}
      },
      "source": [
        ""
      ],
      "execution_count": 0,
      "outputs": []
    }
  ]
}